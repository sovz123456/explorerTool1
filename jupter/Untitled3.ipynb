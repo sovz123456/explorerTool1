{
 "cells": [
  {
   "cell_type": "code",
   "execution_count": 40,
   "id": "1a331890",
   "metadata": {},
   "outputs": [
    {
     "data": {
      "text/html": [
       "<div>\n",
       "<style scoped>\n",
       "    .dataframe tbody tr th:only-of-type {\n",
       "        vertical-align: middle;\n",
       "    }\n",
       "\n",
       "    .dataframe tbody tr th {\n",
       "        vertical-align: top;\n",
       "    }\n",
       "\n",
       "    .dataframe thead th {\n",
       "        text-align: right;\n",
       "    }\n",
       "</style>\n",
       "<table border=\"1\" class=\"dataframe\">\n",
       "  <thead>\n",
       "    <tr style=\"text-align: right;\">\n",
       "      <th></th>\n",
       "      <th>年级</th>\n",
       "      <th>姓名</th>\n",
       "      <th>年龄</th>\n",
       "      <th>性别</th>\n",
       "      <th>身高(cm)</th>\n",
       "      <th>体重(kg)</th>\n",
       "    </tr>\n",
       "  </thead>\n",
       "  <tbody>\n",
       "    <tr>\n",
       "      <th>0</th>\n",
       "      <td>大一</td>\n",
       "      <td>李宏卓</td>\n",
       "      <td>18</td>\n",
       "      <td>男</td>\n",
       "      <td>175</td>\n",
       "      <td>65</td>\n",
       "    </tr>\n",
       "    <tr>\n",
       "      <th>1</th>\n",
       "      <td>大二</td>\n",
       "      <td>李思真</td>\n",
       "      <td>19</td>\n",
       "      <td>女</td>\n",
       "      <td>165</td>\n",
       "      <td>60</td>\n",
       "    </tr>\n",
       "    <tr>\n",
       "      <th>2</th>\n",
       "      <td>大三</td>\n",
       "      <td>张振海</td>\n",
       "      <td>20</td>\n",
       "      <td>男</td>\n",
       "      <td>178</td>\n",
       "      <td>70</td>\n",
       "    </tr>\n",
       "    <tr>\n",
       "      <th>3</th>\n",
       "      <td>大四</td>\n",
       "      <td>赵鸿飞</td>\n",
       "      <td>21</td>\n",
       "      <td>男</td>\n",
       "      <td>175</td>\n",
       "      <td>75</td>\n",
       "    </tr>\n",
       "    <tr>\n",
       "      <th>4</th>\n",
       "      <td>大二</td>\n",
       "      <td>白蓉</td>\n",
       "      <td>19</td>\n",
       "      <td>女</td>\n",
       "      <td>160</td>\n",
       "      <td>55</td>\n",
       "    </tr>\n",
       "    <tr>\n",
       "      <th>5</th>\n",
       "      <td>大三</td>\n",
       "      <td>马腾飞</td>\n",
       "      <td>20</td>\n",
       "      <td>男</td>\n",
       "      <td>180</td>\n",
       "      <td>70</td>\n",
       "    </tr>\n",
       "    <tr>\n",
       "      <th>6</th>\n",
       "      <td>大一</td>\n",
       "      <td>张晓凡</td>\n",
       "      <td>18</td>\n",
       "      <td>女</td>\n",
       "      <td>167</td>\n",
       "      <td>52</td>\n",
       "    </tr>\n",
       "    <tr>\n",
       "      <th>7</th>\n",
       "      <td>大三</td>\n",
       "      <td>金紫萱</td>\n",
       "      <td>20</td>\n",
       "      <td>女</td>\n",
       "      <td>170</td>\n",
       "      <td>53</td>\n",
       "    </tr>\n",
       "    <tr>\n",
       "      <th>8</th>\n",
       "      <td>大四</td>\n",
       "      <td>金烨</td>\n",
       "      <td>21</td>\n",
       "      <td>男</td>\n",
       "      <td>185</td>\n",
       "      <td>73</td>\n",
       "    </tr>\n",
       "  </tbody>\n",
       "</table>\n",
       "</div>"
      ],
      "text/plain": [
       "   年级   姓名  年龄 性别 身高(cm) 体重(kg)\n",
       "0  大一  李宏卓  18  男    175     65\n",
       "1  大二  李思真  19  女    165     60\n",
       "2  大三  张振海  20  男    178     70\n",
       "3  大四  赵鸿飞  21  男    175     75\n",
       "4  大二   白蓉  19  女    160     55\n",
       "5  大三  马腾飞  20  男    180     70\n",
       "6  大一  张晓凡  18  女    167     52\n",
       "7  大三  金紫萱  20  女    170     53\n",
       "8  大四   金烨  21  男    185     73"
      ]
     },
     "execution_count": 40,
     "metadata": {},
     "output_type": "execute_result"
    }
   ],
   "source": [
    "import pandas as pd\n",
    "df_data = pd.DataFrame({'年级':['大一','大二','大三','大四','大二','大三','大一','大三','大四'],\n",
    "                             '姓名':['李宏卓','李思真','张振海','赵鸿飞','白蓉','马腾飞','张晓凡','金紫萱','金烨'],\n",
    "                             '年龄':['18','19','20','21','19','20','18','20','21'],\n",
    "                             '性别':['男','女','男','男','女','男','女','女','男'],\n",
    "                             '身高(cm)':['175','165','178','175','160','180','167','170','185'],\n",
    "                             '体重(kg)':['65','60','70','75','55','70','52','53','73',]})\n",
    "df_data"
   ]
  },
  {
   "cell_type": "code",
   "execution_count": 41,
   "id": "c57ece49",
   "metadata": {},
   "outputs": [
    {
     "data": {
      "text/html": [
       "<div>\n",
       "<style scoped>\n",
       "    .dataframe tbody tr th:only-of-type {\n",
       "        vertical-align: middle;\n",
       "    }\n",
       "\n",
       "    .dataframe tbody tr th {\n",
       "        vertical-align: top;\n",
       "    }\n",
       "\n",
       "    .dataframe thead th {\n",
       "        text-align: right;\n",
       "    }\n",
       "</style>\n",
       "<table border=\"1\" class=\"dataframe\">\n",
       "  <thead>\n",
       "    <tr style=\"text-align: right;\">\n",
       "      <th></th>\n",
       "      <th>年级</th>\n",
       "      <th>姓名</th>\n",
       "      <th>年龄</th>\n",
       "      <th>性别</th>\n",
       "      <th>身高(cm)</th>\n",
       "      <th>体重(kg)</th>\n",
       "    </tr>\n",
       "  </thead>\n",
       "  <tbody>\n",
       "    <tr>\n",
       "      <th>0</th>\n",
       "      <td>大一</td>\n",
       "      <td>李宏卓</td>\n",
       "      <td>18</td>\n",
       "      <td>男</td>\n",
       "      <td>175</td>\n",
       "      <td>65</td>\n",
       "    </tr>\n",
       "    <tr>\n",
       "      <th>6</th>\n",
       "      <td>大一</td>\n",
       "      <td>张晓凡</td>\n",
       "      <td>18</td>\n",
       "      <td>女</td>\n",
       "      <td>167</td>\n",
       "      <td>52</td>\n",
       "    </tr>\n",
       "  </tbody>\n",
       "</table>\n",
       "</div>"
      ],
      "text/plain": [
       "   年级   姓名  年龄 性别 身高(cm) 体重(kg)\n",
       "0  大一  李宏卓  18  男    175     65\n",
       "6  大一  张晓凡  18  女    167     52"
      ]
     },
     "execution_count": 41,
     "metadata": {},
     "output_type": "execute_result"
    }
   ],
   "source": [
    "groupby_data = df_data.groupby(by=\"年级\")\n",
    "dict([x for x in groupby_data])['大一']"
   ]
  },
  {
   "cell_type": "code",
   "execution_count": 42,
   "id": "51ac8886",
   "metadata": {},
   "outputs": [
    {
     "name": "stdout",
     "output_type": "stream",
     "text": [
      "     姓名  年龄 性别 身高(cm) 体重(kg)\n",
      "年级                          \n",
      "大一  李宏卓  18  男    175     65\n",
      "大三  马腾飞  20  男    180     70\n",
      "大二   白蓉  19  女    165     60\n",
      "大四   金烨  21  男    185     75\n"
     ]
    }
   ],
   "source": [
    "print(groupby_data.max())\n",
    "average_weight_grade_one = df[df['年级'] == '大一']['体重（kg）'].mean()  \n",
    "average_weight_grade_three = df[df['年级'] == '大三']['体重（kg）'].mean()  "
   ]
  },
  {
   "cell_type": "code",
   "execution_count": 43,
   "id": "5c6603c8",
   "metadata": {},
   "outputs": [
    {
     "ename": "NameError",
     "evalue": "name 'df' is not defined",
     "output_type": "error",
     "traceback": [
      "\u001b[1;31m---------------------------------------------------------------------------\u001b[0m",
      "\u001b[1;31mNameError\u001b[0m                                 Traceback (most recent call last)",
      "Cell \u001b[1;32mIn[43], line 1\u001b[0m\n\u001b[1;32m----> 1\u001b[0m average_weight_grade_one \u001b[38;5;241m=\u001b[39m \u001b[43mdf\u001b[49m\u001b[38;5;241m.\u001b[39mdata[df\u001b[38;5;241m.\u001b[39mdata[\u001b[38;5;124m'\u001b[39m\u001b[38;5;124m年级\u001b[39m\u001b[38;5;124m'\u001b[39m] \u001b[38;5;241m==\u001b[39m \u001b[38;5;124m'\u001b[39m\u001b[38;5;124m大一\u001b[39m\u001b[38;5;124m'\u001b[39m][\u001b[38;5;124m'\u001b[39m\u001b[38;5;124m体重（kg）\u001b[39m\u001b[38;5;124m'\u001b[39m]\u001b[38;5;241m.\u001b[39mmean()  \n\u001b[0;32m      2\u001b[0m average_weight_grade_three \u001b[38;5;241m=\u001b[39m df\u001b[38;5;241m.\u001b[39mdata[df\u001b[38;5;241m.\u001b[39mdata[\u001b[38;5;124m'\u001b[39m\u001b[38;5;124m年级\u001b[39m\u001b[38;5;124m'\u001b[39m] \u001b[38;5;241m==\u001b[39m \u001b[38;5;124m'\u001b[39m\u001b[38;5;124m大三\u001b[39m\u001b[38;5;124m'\u001b[39m][\u001b[38;5;124m'\u001b[39m\u001b[38;5;124m体重（kg）\u001b[39m\u001b[38;5;124m'\u001b[39m]\u001b[38;5;241m.\u001b[39mmean()\n",
      "\u001b[1;31mNameError\u001b[0m: name 'df' is not defined"
     ]
    }
   ],
   "source": [
    " "
   ]
  },
  {
   "cell_type": "code",
   "execution_count": null,
   "id": "a65b21b4",
   "metadata": {},
   "outputs": [],
   "source": []
  },
  {
   "cell_type": "code",
   "execution_count": null,
   "id": "4f8b3f81",
   "metadata": {},
   "outputs": [],
   "source": []
  }
 ],
 "metadata": {
  "kernelspec": {
   "display_name": "Python 3 (ipykernel)",
   "language": "python",
   "name": "python3"
  },
  "language_info": {
   "codemirror_mode": {
    "name": "ipython",
    "version": 3
   },
   "file_extension": ".py",
   "mimetype": "text/x-python",
   "name": "python",
   "nbconvert_exporter": "python",
   "pygments_lexer": "ipython3",
   "version": "3.10.9"
  }
 },
 "nbformat": 4,
 "nbformat_minor": 5
}
