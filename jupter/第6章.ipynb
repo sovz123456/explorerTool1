{
 "cells": [
  {
   "cell_type": "code",
   "execution_count": 3,
   "id": "2ce0e5a3",
   "metadata": {},
   "outputs": [
    {
     "name": "stdout",
     "output_type": "stream",
     "text": [
      "  key   A   B\n",
      "0  K0  A0  B0\n",
      "1  K1  A1  B1\n",
      "2  K2  A2  B2\n",
      "  key   C   D\n",
      "0  K0  C0  D0\n",
      "1  K1  C1  D1\n",
      "2  K2  C2  D2\n",
      "3  K3  C3  D3\n",
      "  key   A   B   C   D\n",
      "0  K0  A0  B0  C0  D0\n",
      "1  K1  A1  B1  C1  D1\n",
      "2  K2  A2  B2  C2  D2\n"
     ]
    }
   ],
   "source": [
    "import pandas as pd\n",
    "df_left = pd.DataFrame({'key':['K0','K1','K2'],\n",
    "                             'A':['A0','A1','A2'],\n",
    "                             'B':['B0','B1','B2']})\n",
    "df_right = pd.DataFrame({'key':['K0','K1','K2','K3'],\n",
    "                              'C':['C0','C1','C2','C3'],\n",
    "                              'D':['D0','D1','D2','D3']})\n",
    "print(df_left)\n",
    "print(df_right)\n",
    "result = pd.merge(df_left, df_right, on='key')\n",
    "print(result)"
   ]
  },
  {
   "cell_type": "code",
   "execution_count": 4,
   "id": "3c1458be",
   "metadata": {},
   "outputs": [
    {
     "name": "stdout",
     "output_type": "stream",
     "text": [
      "  key   A   B   C   D\n",
      "0  K0  A0  B0  C0  D0\n",
      "1  K1  A1  B1  C1  D1\n",
      "2  K2  A2  B2  C2  D2\n"
     ]
    }
   ],
   "source": [
    "result = pd.merge(df_left, df_right, on='key', how='left')\n",
    "print(result)"
   ]
  },
  {
   "cell_type": "code",
   "execution_count": 5,
   "id": "c2705ccc",
   "metadata": {},
   "outputs": [
    {
     "name": "stdout",
     "output_type": "stream",
     "text": [
      "  key    A    B   C   D\n",
      "0  K0   A0   B0  C0  D0\n",
      "1  K1   A1   B1  C1  D1\n",
      "2  K2   A2   B2  C2  D2\n",
      "3  K3  NaN  NaN  C3  D3\n"
     ]
    }
   ],
   "source": [
    "result = pd.merge(df_left, df_right, on='key', how='right')\n",
    "print(result)"
   ]
  },
  {
   "cell_type": "code",
   "execution_count": 6,
   "id": "8e628b97",
   "metadata": {},
   "outputs": [
    {
     "name": "stdout",
     "output_type": "stream",
     "text": [
      "  key    A    B   C   D\n",
      "0  K0   A0   B0  C0  D0\n",
      "1  K1   A1   B1  C1  D1\n",
      "2  K2   A2   B2  C2  D2\n",
      "3  K3  NaN  NaN  C3  D3\n"
     ]
    }
   ],
   "source": [
    "result = pd.merge(df_left, df_right, on='key', how='outer')\n",
    "print(result)"
   ]
  },
  {
   "cell_type": "code",
   "execution_count": 7,
   "id": "79719e65",
   "metadata": {},
   "outputs": [
    {
     "name": "stdout",
     "output_type": "stream",
     "text": [
      "  key    A    B    C    D\n",
      "0  K0   A0   B0  NaN  NaN\n",
      "1  K1   A1   B1  NaN  NaN\n",
      "2  K2   A2   B2  NaN  NaN\n",
      "0  K0  NaN  NaN   C0   D0\n",
      "1  K1  NaN  NaN   C1   D1\n",
      "2  K2  NaN  NaN   C2   D2\n",
      "3  K3  NaN  NaN   C3   D3\n"
     ]
    }
   ],
   "source": [
    "result = pd.concat([df_left, df_right], axis=0)\n",
    "print(result)"
   ]
  },
  {
   "cell_type": "code",
   "execution_count": 8,
   "id": "494a9041",
   "metadata": {},
   "outputs": [
    {
     "name": "stdout",
     "output_type": "stream",
     "text": [
      "   key    A    B key   C   D\n",
      "0   K0   A0   B0  K0  C0  D0\n",
      "1   K1   A1   B1  K1  C1  D1\n",
      "2   K2   A2   B2  K2  C2  D2\n",
      "3  NaN  NaN  NaN  K3  C3  D3\n"
     ]
    }
   ],
   "source": [
    "result = pd.concat([df_left, df_right], axis=1)\n",
    "print(result)"
   ]
  },
  {
   "cell_type": "code",
   "execution_count": 1,
   "id": "0f2312f7",
   "metadata": {},
   "outputs": [
    {
     "name": "stdout",
     "output_type": "stream",
     "text": [
      "     A    B   C\n",
      "0  NaN  NaN  C0\n",
      "1   A1   B1  C1\n",
      "2   A2  NaN  C2\n",
      "3   A3   B3  C3\n",
      "    A   B\n",
      "1  A1  B1\n",
      "0  A0  B0\n",
      "2  A2  B2\n",
      "    A   B   C\n",
      "0  A0  B0  C0\n",
      "1  A1  B1  C1\n",
      "2  A2  B2  C2\n",
      "3  A3  B3  C3\n"
     ]
    }
   ],
   "source": [
    "import numpy as np\n",
    "from numpy import NAN\n",
    "import pandas as pd\n",
    "df_left = pd.DataFrame({'A': [np.nan, 'A1', 'A2', 'A3'],\n",
    "                             'B': [np.nan, 'B1', np.nan, 'B3'],\n",
    "                             'C': ['C0', 'C1', 'C2', 'C3']})    #没有额外表示index   默认为0 1 2\n",
    "df_right = pd.DataFrame({'A': ['A1', 'A0','A2'],\n",
    "                              'B': ['B1', 'B0','B2']}, index=[1,0,2])     #index表示对序列号进行编辑\n",
    "print(df_left)\n",
    "print(df_right)\n",
    "# 采用重叠合并的方式组合数据\n",
    "result = df_left.combine_first(df_right)\n",
    "print(result)"
   ]
  },
  {
   "cell_type": "code",
   "execution_count": 2,
   "id": "2b3ff5d2",
   "metadata": {},
   "outputs": [
    {
     "data": {
      "text/html": [
       "<div>\n",
       "<style scoped>\n",
       "    .dataframe tbody tr th:only-of-type {\n",
       "        vertical-align: middle;\n",
       "    }\n",
       "\n",
       "    .dataframe tbody tr th {\n",
       "        vertical-align: top;\n",
       "    }\n",
       "\n",
       "    .dataframe thead th {\n",
       "        text-align: right;\n",
       "    }\n",
       "</style>\n",
       "<table border=\"1\" class=\"dataframe\">\n",
       "  <thead>\n",
       "    <tr style=\"text-align: right;\">\n",
       "      <th></th>\n",
       "      <th>商品名称</th>\n",
       "      <th>出售日期</th>\n",
       "      <th>价格(元)</th>\n",
       "    </tr>\n",
       "  </thead>\n",
       "  <tbody>\n",
       "    <tr>\n",
       "      <th>0</th>\n",
       "      <td>荣耀9X</td>\n",
       "      <td>5月25日</td>\n",
       "      <td>999</td>\n",
       "    </tr>\n",
       "    <tr>\n",
       "      <th>1</th>\n",
       "      <td>小米6x</td>\n",
       "      <td>5月25日</td>\n",
       "      <td>1399</td>\n",
       "    </tr>\n",
       "    <tr>\n",
       "      <th>2</th>\n",
       "      <td>OPPO A1</td>\n",
       "      <td>5月25日</td>\n",
       "      <td>1399</td>\n",
       "    </tr>\n",
       "    <tr>\n",
       "      <th>3</th>\n",
       "      <td>荣耀9X</td>\n",
       "      <td>6月18日</td>\n",
       "      <td>800</td>\n",
       "    </tr>\n",
       "    <tr>\n",
       "      <th>4</th>\n",
       "      <td>小米6x</td>\n",
       "      <td>6月18日</td>\n",
       "      <td>1200</td>\n",
       "    </tr>\n",
       "    <tr>\n",
       "      <th>5</th>\n",
       "      <td>OPPO A1</td>\n",
       "      <td>6月18日</td>\n",
       "      <td>1250</td>\n",
       "    </tr>\n",
       "  </tbody>\n",
       "</table>\n",
       "</div>"
      ],
      "text/plain": [
       "      商品名称   出售日期  价格(元)\n",
       "0     荣耀9X  5月25日    999\n",
       "1     小米6x  5月25日   1399\n",
       "2  OPPO A1  5月25日   1399\n",
       "3     荣耀9X  6月18日    800\n",
       "4     小米6x  6月18日   1200\n",
       "5  OPPO A1  6月18日   1250"
      ]
     },
     "execution_count": 2,
     "metadata": {},
     "output_type": "execute_result"
    }
   ],
   "source": [
    "import pandas as pd\n",
    "df_obj =  pd.DataFrame({'商品名称': ['荣耀9X','小米6x','OPPO A1',\n",
    "                                    '荣耀9X','小米6x','OPPO A1'],\n",
    "                        '出售日期': ['5月25日', '5月25日','5月25日',\n",
    "                                        '6月18日','6月18日', '6月18日'],\n",
    "                          '价格(元)': [999, 1399, 1399, 800, 1200, 1250]})\n",
    "df_obj"
   ]
  },
  {
   "cell_type": "code",
   "execution_count": 3,
   "id": "7f72ccbc",
   "metadata": {},
   "outputs": [
    {
     "data": {
      "text/html": [
       "<div>\n",
       "<style scoped>\n",
       "    .dataframe tbody tr th:only-of-type {\n",
       "        vertical-align: middle;\n",
       "    }\n",
       "\n",
       "    .dataframe tbody tr th {\n",
       "        vertical-align: top;\n",
       "    }\n",
       "\n",
       "    .dataframe thead th {\n",
       "        text-align: right;\n",
       "    }\n",
       "</style>\n",
       "<table border=\"1\" class=\"dataframe\">\n",
       "  <thead>\n",
       "    <tr style=\"text-align: right;\">\n",
       "      <th>商品名称</th>\n",
       "      <th>OPPO A1</th>\n",
       "      <th>小米6x</th>\n",
       "      <th>荣耀9X</th>\n",
       "    </tr>\n",
       "    <tr>\n",
       "      <th>出售日期</th>\n",
       "      <th></th>\n",
       "      <th></th>\n",
       "      <th></th>\n",
       "    </tr>\n",
       "  </thead>\n",
       "  <tbody>\n",
       "    <tr>\n",
       "      <th>5月25日</th>\n",
       "      <td>1399</td>\n",
       "      <td>1399</td>\n",
       "      <td>999</td>\n",
       "    </tr>\n",
       "    <tr>\n",
       "      <th>6月18日</th>\n",
       "      <td>1250</td>\n",
       "      <td>1200</td>\n",
       "      <td>800</td>\n",
       "    </tr>\n",
       "  </tbody>\n",
       "</table>\n",
       "</div>"
      ],
      "text/plain": [
       "商品名称   OPPO A1  小米6x  荣耀9X\n",
       "出售日期                      \n",
       "5月25日     1399  1399   999\n",
       "6月18日     1250  1200   800"
      ]
     },
     "execution_count": 3,
     "metadata": {},
     "output_type": "execute_result"
    }
   ],
   "source": [
    "# 将出售日期一列的唯一数据变换为行索引 使用index属性，商品一列的唯一数据变换为列索引  使用columns属性 ，指定DataFrame中的数据  使用values属性\n",
    "new_df = df_obj.pivot(index='出售日期', columns='商品名称', \n",
    "values='价格(元)')\n",
    "new_df"
   ]
  },
  {
   "cell_type": "code",
   "execution_count": 4,
   "id": "30ffd6c1",
   "metadata": {},
   "outputs": [
    {
     "name": "stdout",
     "output_type": "stream",
     "text": [
      "Index(['OPPO A1', '小米6x', '荣耀9X'], dtype='object', name='商品名称')\n"
     ]
    },
    {
     "data": {
      "text/html": [
       "<div>\n",
       "<style scoped>\n",
       "    .dataframe tbody tr th:only-of-type {\n",
       "        vertical-align: middle;\n",
       "    }\n",
       "\n",
       "    .dataframe tbody tr th {\n",
       "        vertical-align: top;\n",
       "    }\n",
       "\n",
       "    .dataframe thead th {\n",
       "        text-align: right;\n",
       "    }\n",
       "</style>\n",
       "<table border=\"1\" class=\"dataframe\">\n",
       "  <thead>\n",
       "    <tr style=\"text-align: right;\">\n",
       "      <th></th>\n",
       "      <th>商品名称</th>\n",
       "      <th>价格(元)</th>\n",
       "    </tr>\n",
       "    <tr>\n",
       "      <th>出售日期</th>\n",
       "      <th></th>\n",
       "      <th></th>\n",
       "    </tr>\n",
       "  </thead>\n",
       "  <tbody>\n",
       "    <tr>\n",
       "      <th>5月25日</th>\n",
       "      <td>OPPO A1</td>\n",
       "      <td>1399</td>\n",
       "    </tr>\n",
       "    <tr>\n",
       "      <th>6月18日</th>\n",
       "      <td>OPPO A1</td>\n",
       "      <td>1250</td>\n",
       "    </tr>\n",
       "    <tr>\n",
       "      <th>5月25日</th>\n",
       "      <td>小米6x</td>\n",
       "      <td>1399</td>\n",
       "    </tr>\n",
       "    <tr>\n",
       "      <th>6月18日</th>\n",
       "      <td>小米6x</td>\n",
       "      <td>1200</td>\n",
       "    </tr>\n",
       "    <tr>\n",
       "      <th>5月25日</th>\n",
       "      <td>荣耀9X</td>\n",
       "      <td>999</td>\n",
       "    </tr>\n",
       "    <tr>\n",
       "      <th>6月18日</th>\n",
       "      <td>荣耀9X</td>\n",
       "      <td>800</td>\n",
       "    </tr>\n",
       "  </tbody>\n",
       "</table>\n",
       "</div>"
      ],
      "text/plain": [
       "          商品名称  价格(元)\n",
       "出售日期                 \n",
       "5月25日  OPPO A1   1399\n",
       "6月18日  OPPO A1   1250\n",
       "5月25日     小米6x   1399\n",
       "6月18日     小米6x   1200\n",
       "5月25日     荣耀9X    999\n",
       "6月18日     荣耀9X    800"
      ]
     },
     "execution_count": 4,
     "metadata": {},
     "output_type": "execute_result"
    }
   ],
   "source": [
    "#查看new_df的列索引\n",
    "print(new_df.columns)\n",
    "# 将列索引转换为一行数据\n",
    "new_df.melt(value_name='价格(元)', ignore_index=False)\n",
    "#或者使用列索引 \n",
    "#new_df.melt(value_vars=['OPPO A1', '小米6x', '荣耀9X'],value_name='价格(元)', ignore_index=False)"
   ]
  },
  {
   "cell_type": "code",
   "execution_count": 5,
   "id": "6a1eccf2",
   "metadata": {},
   "outputs": [
    {
     "name": "stdout",
     "output_type": "stream",
     "text": [
      "  key  data\n",
      "0   C     2\n",
      "1   B     4\n",
      "2   C     6\n",
      "3   A     8\n",
      "4   B    10\n",
      "5   B     1\n",
      "6   A     3\n",
      "7   C     5\n",
      "8   A     7\n",
      "<pandas.core.groupby.generic.DataFrameGroupBy object at 0x0000023196D73730>\n"
     ]
    }
   ],
   "source": [
    "#groupby()方法：根据键将原数据拆分成若干个分组，返回一个可迭代对象\n",
    "import pandas as pd\n",
    "df_obj = pd.DataFrame({\"key\":[\"C\", \"B\", \"C\", \"A\", \"B\", \"B\", \"A\", \"C\", \"A\"], \n",
    "                       \"data\":[2, 4, 6, 8, 10, 1, 3, 5, 7]})\n",
    "print(df_obj)\n",
    "# 根据key列对df_obj进行分组\n",
    "groupby_obj = df_obj.groupby(by=\"key\")\n",
    "print(groupby_obj)   #此处返回的是一个可迭代对象DataFrameGroupBy"
   ]
  },
  {
   "cell_type": "code",
   "execution_count": 6,
   "id": "aff313d6",
   "metadata": {},
   "outputs": [
    {
     "name": "stdout",
     "output_type": "stream",
     "text": [
      "('A',   key  data\n",
      "3   A     8\n",
      "6   A     3\n",
      "8   A     7)\n",
      "('B',   key  data\n",
      "1   B     4\n",
      "4   B    10\n",
      "5   B     1)\n",
      "('C',   key  data\n",
      "0   C     2\n",
      "2   C     6\n",
      "7   C     5)\n"
     ]
    }
   ],
   "source": [
    "for group in groupby_obj:  # 遍历DataFrameGroupBy类的对象\n",
    "    print(group)"
   ]
  },
  {
   "cell_type": "code",
   "execution_count": 7,
   "id": "7492bfb5",
   "metadata": {},
   "outputs": [
    {
     "name": "stdout",
     "output_type": "stream",
     "text": [
      "  key  data\n",
      "3   A     8\n",
      "6   A     3\n",
      "8   A     7\n"
     ]
    }
   ],
   "source": [
    "#只输出每个分组的信息\n",
    "#利用列表推导式将列表转换为字典   字典的键即为列表中的第一个元素  值为列表中的第二个元素\n",
    "result = dict([x for x in groupby_obj])['A']   #先使用列表推导式遍历groupby_obj  随后强制转换为字典  再通过访问字典的方式获取每个分组的信息\n",
    "print(result)"
   ]
  },
  {
   "cell_type": "code",
   "execution_count": 8,
   "id": "b86cc30d",
   "metadata": {},
   "outputs": [
    {
     "name": "stdout",
     "output_type": "stream",
     "text": [
      "     data\n",
      "key      \n",
      "A       8\n",
      "B      10\n",
      "C       6\n"
     ]
    }
   ],
   "source": [
    "#使用内置的统计方法实现聚合操作\n",
    "print(groupby_obj.max())   # 使用max()方法聚合分组数据"
   ]
  },
  {
   "cell_type": "code",
   "execution_count": 9,
   "id": "44b9c974",
   "metadata": {},
   "outputs": [
    {
     "name": "stdout",
     "output_type": "stream",
     "text": [
      "    a   b   c   d   e   f\n",
      "0   0   1   2   3   4   5\n",
      "1   6   7   8   9  10  11\n",
      "2  12  13  14  15  16  17\n",
      "3  18  19  20  21  22  23\n",
      "4  24  25  26  27  28  29\n",
      "5  30  31  32  33  34  35\n"
     ]
    }
   ],
   "source": [
    "from pandas import DataFrame\n",
    "df_obj = DataFrame({'a': [0, 6, 12, 18, 24, 30],\n",
    "                       'b': [1, 7, 13, 19, 25, 31],\n",
    "                       'c': [2, 8, 14, 20, 26, 32],\n",
    "                       'd': [3, 9, 15, 21, 27, 33],\n",
    "                       'e': [4, 10, 16, 22, 28, 34],\n",
    "                       'f': [5, 11, 17, 23, 29, 35]})\n",
    "print(df_obj)"
   ]
  },
  {
   "cell_type": "code",
   "execution_count": 10,
   "id": "6a7ab9c7",
   "metadata": {},
   "outputs": [
    {
     "data": {
      "text/html": [
       "<div>\n",
       "<style scoped>\n",
       "    .dataframe tbody tr th:only-of-type {\n",
       "        vertical-align: middle;\n",
       "    }\n",
       "\n",
       "    .dataframe tbody tr th {\n",
       "        vertical-align: top;\n",
       "    }\n",
       "\n",
       "    .dataframe thead th {\n",
       "        text-align: right;\n",
       "    }\n",
       "</style>\n",
       "<table border=\"1\" class=\"dataframe\">\n",
       "  <thead>\n",
       "    <tr style=\"text-align: right;\">\n",
       "      <th></th>\n",
       "      <th>a</th>\n",
       "      <th>b</th>\n",
       "      <th>c</th>\n",
       "      <th>d</th>\n",
       "      <th>e</th>\n",
       "      <th>f</th>\n",
       "    </tr>\n",
       "  </thead>\n",
       "  <tbody>\n",
       "    <tr>\n",
       "      <th>0</th>\n",
       "      <td>0</td>\n",
       "      <td>1</td>\n",
       "      <td>2</td>\n",
       "      <td>3</td>\n",
       "      <td>4</td>\n",
       "      <td>5</td>\n",
       "    </tr>\n",
       "    <tr>\n",
       "      <th>1</th>\n",
       "      <td>6</td>\n",
       "      <td>7</td>\n",
       "      <td>8</td>\n",
       "      <td>9</td>\n",
       "      <td>10</td>\n",
       "      <td>11</td>\n",
       "    </tr>\n",
       "    <tr>\n",
       "      <th>4</th>\n",
       "      <td>24</td>\n",
       "      <td>25</td>\n",
       "      <td>26</td>\n",
       "      <td>27</td>\n",
       "      <td>28</td>\n",
       "      <td>29</td>\n",
       "    </tr>\n",
       "  </tbody>\n",
       "</table>\n",
       "</div>"
      ],
      "text/plain": [
       "    a   b   c   d   e   f\n",
       "0   0   1   2   3   4   5\n",
       "1   6   7   8   9  10  11\n",
       "4  24  25  26  27  28  29"
      ]
     },
     "execution_count": 10,
     "metadata": {},
     "output_type": "execute_result"
    }
   ],
   "source": [
    "# 根据列表对df_obj进行分组，列表中相同元素对应的行会归为一组\n",
    "groupby_obj = df_obj.groupby(by=['A', 'A', 'B', 'B', 'A', 'B'])\n",
    "#查看A组中的数据\n",
    "dict([x for x in groupby_obj])['A']   #根据设定的AABBAB分组   将行索引为0.1.4的行进行归类"
   ]
  },
  {
   "cell_type": "code",
   "execution_count": 11,
   "id": "77a068ac",
   "metadata": {},
   "outputs": [
    {
     "data": {
      "text/html": [
       "<div>\n",
       "<style scoped>\n",
       "    .dataframe tbody tr th:only-of-type {\n",
       "        vertical-align: middle;\n",
       "    }\n",
       "\n",
       "    .dataframe tbody tr th {\n",
       "        vertical-align: top;\n",
       "    }\n",
       "\n",
       "    .dataframe thead th {\n",
       "        text-align: right;\n",
       "    }\n",
       "</style>\n",
       "<table border=\"1\" class=\"dataframe\">\n",
       "  <thead>\n",
       "    <tr style=\"text-align: right;\">\n",
       "      <th></th>\n",
       "      <th>a</th>\n",
       "      <th>b</th>\n",
       "      <th>c</th>\n",
       "      <th>d</th>\n",
       "      <th>e</th>\n",
       "      <th>f</th>\n",
       "    </tr>\n",
       "  </thead>\n",
       "  <tbody>\n",
       "    <tr>\n",
       "      <th>2</th>\n",
       "      <td>12</td>\n",
       "      <td>13</td>\n",
       "      <td>14</td>\n",
       "      <td>15</td>\n",
       "      <td>16</td>\n",
       "      <td>17</td>\n",
       "    </tr>\n",
       "    <tr>\n",
       "      <th>3</th>\n",
       "      <td>18</td>\n",
       "      <td>19</td>\n",
       "      <td>20</td>\n",
       "      <td>21</td>\n",
       "      <td>22</td>\n",
       "      <td>23</td>\n",
       "    </tr>\n",
       "    <tr>\n",
       "      <th>5</th>\n",
       "      <td>30</td>\n",
       "      <td>31</td>\n",
       "      <td>32</td>\n",
       "      <td>33</td>\n",
       "      <td>34</td>\n",
       "      <td>35</td>\n",
       "    </tr>\n",
       "  </tbody>\n",
       "</table>\n",
       "</div>"
      ],
      "text/plain": [
       "    a   b   c   d   e   f\n",
       "2  12  13  14  15  16  17\n",
       "3  18  19  20  21  22  23\n",
       "5  30  31  32  33  34  35"
      ]
     },
     "execution_count": 11,
     "metadata": {},
     "output_type": "execute_result"
    }
   ],
   "source": [
    "#查看B组中的数据\n",
    "dict([x for x in groupby_obj])['B']   #根据设定的AABBAB分组   将行索引为2.3.5的行进行归类"
   ]
  },
  {
   "cell_type": "code",
   "execution_count": 12,
   "id": "2016c045",
   "metadata": {},
   "outputs": [
    {
     "data": {
      "text/html": [
       "<div>\n",
       "<style scoped>\n",
       "    .dataframe tbody tr th:only-of-type {\n",
       "        vertical-align: middle;\n",
       "    }\n",
       "\n",
       "    .dataframe tbody tr th {\n",
       "        vertical-align: top;\n",
       "    }\n",
       "\n",
       "    .dataframe thead th {\n",
       "        text-align: right;\n",
       "    }\n",
       "</style>\n",
       "<table border=\"1\" class=\"dataframe\">\n",
       "  <thead>\n",
       "    <tr style=\"text-align: right;\">\n",
       "      <th></th>\n",
       "      <th>a</th>\n",
       "      <th>b</th>\n",
       "      <th>c</th>\n",
       "      <th>d</th>\n",
       "      <th>e</th>\n",
       "      <th>f</th>\n",
       "    </tr>\n",
       "  </thead>\n",
       "  <tbody>\n",
       "    <tr>\n",
       "      <th>A</th>\n",
       "      <td>24</td>\n",
       "      <td>24</td>\n",
       "      <td>24</td>\n",
       "      <td>24</td>\n",
       "      <td>24</td>\n",
       "      <td>24</td>\n",
       "    </tr>\n",
       "    <tr>\n",
       "      <th>B</th>\n",
       "      <td>18</td>\n",
       "      <td>18</td>\n",
       "      <td>18</td>\n",
       "      <td>18</td>\n",
       "      <td>18</td>\n",
       "      <td>18</td>\n",
       "    </tr>\n",
       "  </tbody>\n",
       "</table>\n",
       "</div>"
      ],
      "text/plain": [
       "    a   b   c   d   e   f\n",
       "A  24  24  24  24  24  24\n",
       "B  18  18  18  18  18  18"
      ]
     },
     "execution_count": 12,
     "metadata": {},
     "output_type": "execute_result"
    }
   ],
   "source": [
    "# 自定义求极差的函数\n",
    "def my_range(arr):\n",
    "    return arr.max()-arr.min()\n",
    "groupby_obj.agg(my_range)  # 使用agg()方法聚合分组数据"
   ]
  },
  {
   "cell_type": "code",
   "execution_count": 13,
   "id": "470d3ad6",
   "metadata": {},
   "outputs": [
    {
     "data": {
      "text/html": [
       "<div>\n",
       "<style scoped>\n",
       "    .dataframe tbody tr th:only-of-type {\n",
       "        vertical-align: middle;\n",
       "    }\n",
       "\n",
       "    .dataframe tbody tr th {\n",
       "        vertical-align: top;\n",
       "    }\n",
       "\n",
       "    .dataframe thead th {\n",
       "        text-align: right;\n",
       "    }\n",
       "</style>\n",
       "<table border=\"1\" class=\"dataframe\">\n",
       "  <thead>\n",
       "    <tr style=\"text-align: right;\">\n",
       "      <th></th>\n",
       "      <th>a</th>\n",
       "      <th>c</th>\n",
       "      <th>e</th>\n",
       "    </tr>\n",
       "  </thead>\n",
       "  <tbody>\n",
       "    <tr>\n",
       "      <th>A</th>\n",
       "      <td>24</td>\n",
       "      <td>36</td>\n",
       "      <td>24</td>\n",
       "    </tr>\n",
       "    <tr>\n",
       "      <th>B</th>\n",
       "      <td>30</td>\n",
       "      <td>66</td>\n",
       "      <td>18</td>\n",
       "    </tr>\n",
       "  </tbody>\n",
       "</table>\n",
       "</div>"
      ],
      "text/plain": [
       "    a   c   e\n",
       "A  24  36  24\n",
       "B  30  66  18"
      ]
     },
     "execution_count": 13,
     "metadata": {},
     "output_type": "execute_result"
    }
   ],
   "source": [
    "# 使用agg()方法聚合分组中指定列的数据   a列最大值  b列的和   e列的极差\n",
    "groupby_obj.agg({'a':'max', 'c':'sum', 'e': my_range})"
   ]
  },
  {
   "cell_type": "code",
   "execution_count": 14,
   "id": "dea5c7ad",
   "metadata": {},
   "outputs": [
    {
     "name": "stdout",
     "output_type": "stream",
     "text": [
      "    a   b   c   d   e   f\n",
      "0   0   1   2   3   4   5\n",
      "1   6   7   8   9  10  11\n",
      "2  12  13  14  15  16  17\n",
      "3  18  19  20  21  22  23\n",
      "4  24  25  26  27  28  29\n",
      "5  30  31  32  33  34  35\n",
      "    a   b   c   d   e   f\n",
      "0  24  25  26  27  28  29\n",
      "1  24  25  26  27  28  29\n",
      "2  30  31  32  33  34  35\n",
      "3  30  31  32  33  34  35\n",
      "4  24  25  26  27  28  29\n",
      "5  30  31  32  33  34  35\n"
     ]
    }
   ],
   "source": [
    "#使用transform()方法聚合分组数据\n",
    "from pandas import DataFrame\n",
    "df_obj = DataFrame({'a': [0, 6, 12, 18, 24, 30],\n",
    "                       'b': [1, 7, 13, 19, 25, 31],\n",
    "                       'c': [2, 8, 14, 20, 26, 32],\n",
    "                       'd': [3, 9, 15, 21, 27, 33],\n",
    "                       'e': [4, 10, 16, 22, 28, 34],\n",
    "                       'f': [5, 11, 17, 23, 29, 35]})\n",
    "print(df_obj)\n",
    "# 根据列表对df_obj进行分组，列表中相同元素对应的行会归为一组\n",
    "groupby_obj = df_obj.groupby(by=['A', 'A', 'B', 'B', 'A', 'B'])\n",
    "# 使用transform()方法聚合分组数据\n",
    "print(groupby_obj.transform('max'))"
   ]
  },
  {
   "cell_type": "code",
   "execution_count": null,
   "id": "e4cf8f9c",
   "metadata": {},
   "outputs": [],
   "source": []
  }
 ],
 "metadata": {
  "kernelspec": {
   "display_name": "Python 3 (ipykernel)",
   "language": "python",
   "name": "python3"
  },
  "language_info": {
   "codemirror_mode": {
    "name": "ipython",
    "version": 3
   },
   "file_extension": ".py",
   "mimetype": "text/x-python",
   "name": "python",
   "nbconvert_exporter": "python",
   "pygments_lexer": "ipython3",
   "version": "3.10.9"
  }
 },
 "nbformat": 4,
 "nbformat_minor": 5
}
