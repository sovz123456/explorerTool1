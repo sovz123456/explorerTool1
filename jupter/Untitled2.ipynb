{
 "cells": [
  {
   "cell_type": "code",
   "execution_count": 1,
   "id": "bb8270d6",
   "metadata": {},
   "outputs": [
    {
     "name": "stdout",
     "output_type": "stream",
     "text": [
      "      A     B     C     D\n",
      "0  38.0  23.5  40.2  23.0\n",
      "1  48.0  63.0  44.0  44.0\n",
      "2  29.0  58.0   2.0  25.0\n",
      "3  40.0  77.0  31.0  56.0\n"
     ]
    }
   ],
   "source": [
    "import numpy as np\n",
    "import pandas as pd\n",
    "demo_arr = np.array([[38,23.5,40.2,23],[48,63,44,44],[29,58,2,25],[40,77,31,56]])    \n",
    "df = pd.DataFrame(demo_arr, columns=['A','B','C','D'])\n",
    "print(df)"
   ]
  },
  {
   "cell_type": "code",
   "execution_count": 13,
   "id": "f00da745",
   "metadata": {},
   "outputs": [
    {
     "name": "stdout",
     "output_type": "stream",
     "text": [
      "以列索引D为准进行按值排序是\n",
      "       A     B     C     D\n",
      "3  40.0  77.0  31.0  56.0\n",
      "1  48.0  63.0  44.0  44.0\n",
      "2  29.0  58.0   2.0  25.0\n",
      "0  38.0  23.5  40.2  23.0\n"
     ]
    }
   ],
   "source": [
    "df_sort = df.sort_values(by='D',ascending=False)\n",
    "print(\"以列索引D为准进行按值排序是\\n\",df_sort)"
   ]
  },
  {
   "cell_type": "code",
   "execution_count": 14,
   "id": "60f43981",
   "metadata": {},
   "outputs": [
    {
     "name": "stdout",
     "output_type": "stream",
     "text": [
      "行号索引为1数据的平均值是 49.75\n"
     ]
    }
   ],
   "source": [
    "df_avg = df.loc[1].mean()\n",
    "print(\"行号索引为1数据的平均值是\",df_avg)"
   ]
  },
  {
   "cell_type": "code",
   "execution_count": 21,
   "id": "2577abdc",
   "metadata": {},
   "outputs": [
    {
     "name": "stdout",
     "output_type": "stream",
     "text": [
      "数据的统计分析：\n",
      "                A          B          C          D\n",
      "count   4.000000   4.000000   4.000000   4.000000\n",
      "mean   38.750000  55.375000  29.300000  37.000000\n",
      "std     7.804913  22.720677  19.000702  15.811388\n",
      "min    29.000000  23.500000   2.000000  23.000000\n",
      "25%    35.750000  49.375000  23.750000  24.500000\n",
      "50%    39.000000  60.500000  35.600000  34.500000\n",
      "75%    42.000000  66.500000  41.150000  47.000000\n",
      "max    48.000000  77.000000  44.000000  56.000000\n",
      "count：数量统计，此列共有多少有效值\n",
      "mean：均值\n",
      "std：标准差\n",
      "min：最小值\n",
      "25%：四分之一分位数\n",
      "50%：二分之一分位数\n",
      "75%：四分之三分位数\n",
      "max：最大值\n"
     ]
    }
   ],
   "source": [
    "df_des = df.describe()\n",
    "print(\"数据的统计分析：\\n\",df_des)\n",
    "print(\"count：数量统计，此列共有多少有效值\\nmean：均值\\nstd：标准差\\nmin：最小值\\n25%：四分之一分位数\\n50%：二分之一分位数\\n75%：四分之三分位数\\nmax：最大值\")"
   ]
  },
  {
   "cell_type": "code",
   "execution_count": 5,
   "id": "fb6b6a2b",
   "metadata": {},
   "outputs": [
    {
     "data": {
      "text/plain": [
       "<Axes: xlabel='名字', ylabel='数据'>"
      ]
     },
     "execution_count": 5,
     "metadata": {},
     "output_type": "execute_result"
    },
    {
     "data": {
      "image/png": "[encoded data removed]",
      "text/plain": [
       "<Figure size 640x480 with 1 Axes>"
      ]
     },
     "metadata": {},
     "output_type": "display_data"
    }
   ],
   "source": [
    "import matplotlib.pyplot as plt\n",
    "plt.rcParams['font.sans-serif'] = ['SimHei']\n",
    "df.plot(kind='bar', xlabel='名字', ylabel='数据', rot=0)"
   ]
  },
  {
   "cell_type": "code",
   "execution_count": 6,
   "id": "0c4c2837",
   "metadata": {},
   "outputs": [
    {
     "data": {
      "text/plain": [
       "<Axes: xlabel='名字', ylabel='数据'>"
      ]
     },
     "execution_count": 6,
     "metadata": {},
     "output_type": "execute_result"
    },
    {
     "data": {
      "image/png": "[encoded data removed]",
      "text/plain": [
       "<Figure size 640x480 with 1 Axes>"
      ]
     },
     "metadata": {},
     "output_type": "display_data"
    }
   ],
   "source": [
    "import matplotlib.pyplot as plt\n",
    "plt.rcParams['font.sans-serif'] = ['SimHei']\n",
    "df.plot(kind='box', xlabel='名字', ylabel='数据', rot=0)"
   ]
  },
  {
   "cell_type": "code",
   "execution_count": 81,
   "id": "d7fbd7c7",
   "metadata": {},
   "outputs": [
    {
     "name": "stdout",
     "output_type": "stream",
     "text": [
      "['食品部', '3310', '2530', '4032', '3572']\n"
     ]
    }
   ],
   "source": [
    "import pdfplumber\n",
    "import pandas as pd\n",
    "with pdfplumber.open(\"C:\\\\Users\\ROG\\Desktop\\jupter\\超市销售数据.pdf\") as pdf:\n",
    "#      print(pdf.pages[0].extract_text())\n",
    "    demo_arr=pdf.pages[0].extract_table()\n",
    "#     print(demo_arr)\n",
    "    print(demo_arr[2:][0])\n",
    "#     df = pd.DataFrame(demo_arr[0][1:], columns=demo_arr[0][0])\n",
    "#     print(df)\n",
    "\n",
    "#     df = pd.DataFrame(demo_arr[2][1:], columns=demo_arr[1][1:],index=demo_arr[2:6][0])\n",
    "#     print(df)\n",
    "    "
   ]
  },
  {
   "cell_type": "code",
   "execution_count": 90,
   "id": "b18a52cb",
   "metadata": {},
   "outputs": [
    {
     "name": "stdout",
     "output_type": "stream",
     "text": [
      "超市销售表\n",
      "     第1季度 第2季度  第3季度  第4季度\n",
      "食品部  3310 2530  4032  3572\n",
      "家电部 12304 8530 10289 11032\n",
      "日化部  5600 4200  5223  4930\n",
      "酒水部  8930 7340  8300  8000\n",
      "生鲜部  3050 2200  2890  3100\n"
     ]
    }
   ],
   "source": [
    "import pdfplumber\n",
    "import pandas as pd\n",
    "read_path = '超市销售数据.pdf'\n",
    "pdf=pdfplumber.open(\"C:\\\\Users\\ROG\\Desktop\\jupter\\超市销售数据.pdf\")\n",
    "\n",
    "result_df = pd.DataFrame()\n",
    "for page in pdf.pages:\n",
    "    table = page.extract_table()\n",
    "    df_detail = pd.DataFrame(table[1:], columns=table[0])\n",
    "    result_df = pd.concat([df_detail, result_df], ignore_index=True)\n",
    "print(\"超市销售表\")\n",
    "print(result_df.to_string(index=False, header=False))\n"
   ]
  },
  {
   "cell_type": "code",
   "execution_count": 95,
   "id": "4815a65b",
   "metadata": {},
   "outputs": [
    {
     "name": "stdout",
     "output_type": "stream",
     "text": [
      "     第1季度 第2季度  第3季度  第4季度\n",
      "食品部  3310 2530  4032  3572\n",
      "家电部 12304 8530 10289 11032\n",
      "日化部  5600 4200  5223  4930\n",
      "酒水部  8930 7340  8300  8000\n",
      "生鲜部  3050 2200  2890  3100\n"
     ]
    }
   ],
   "source": [
    "import pdfplumber\n",
    "import pandas as pd\n",
    "with pdfplumber.open(\"C:\\\\Users\\ROG\\Desktop\\jupter\\超市销售数据.pdf\") as pdf:\n",
    "    page = pdf.pages[0]\n",
    "    tables = page.extract_tables()\n",
    "    data = tables[0]\n",
    "    data = data[1:]\n",
    "    df = pd.DataFrame(data)  \n",
    "    dataz = df\n",
    "    print(dataz.to_string(index=False, header=False))"
   ]
  },
  {
   "cell_type": "code",
   "execution_count": 6,
   "id": "2ee26a3d",
   "metadata": {},
   "outputs": [
    {
     "data": {
      "text/html": [
       "<div>\n",
       "<style scoped>\n",
       "    .dataframe tbody tr th:only-of-type {\n",
       "        vertical-align: middle;\n",
       "    }\n",
       "\n",
       "    .dataframe tbody tr th {\n",
       "        vertical-align: top;\n",
       "    }\n",
       "\n",
       "    .dataframe thead th {\n",
       "        text-align: right;\n",
       "    }\n",
       "</style>\n",
       "<table border=\"1\" class=\"dataframe\">\n",
       "  <thead>\n",
       "    <tr style=\"text-align: right;\">\n",
       "      <th></th>\n",
       "      <th>Unnamed: 0</th>\n",
       "      <th>value</th>\n",
       "    </tr>\n",
       "  </thead>\n",
       "  <tbody>\n",
       "    <tr>\n",
       "      <th>0</th>\n",
       "      <td>0</td>\n",
       "      <td>18.6</td>\n",
       "    </tr>\n",
       "    <tr>\n",
       "      <th>1</th>\n",
       "      <td>1</td>\n",
       "      <td>12.9</td>\n",
       "    </tr>\n",
       "    <tr>\n",
       "      <th>2</th>\n",
       "      <td>2</td>\n",
       "      <td>15.4</td>\n",
       "    </tr>\n",
       "    <tr>\n",
       "      <th>3</th>\n",
       "      <td>3</td>\n",
       "      <td>14.4</td>\n",
       "    </tr>\n",
       "    <tr>\n",
       "      <th>4</th>\n",
       "      <td>4</td>\n",
       "      <td>18.7</td>\n",
       "    </tr>\n",
       "    <tr>\n",
       "      <th>...</th>\n",
       "      <td>...</td>\n",
       "      <td>...</td>\n",
       "    </tr>\n",
       "    <tr>\n",
       "      <th>995</th>\n",
       "      <td>995</td>\n",
       "      <td>14.2</td>\n",
       "    </tr>\n",
       "    <tr>\n",
       "      <th>996</th>\n",
       "      <td>996</td>\n",
       "      <td>10.3</td>\n",
       "    </tr>\n",
       "    <tr>\n",
       "      <th>997</th>\n",
       "      <td>997</td>\n",
       "      <td>12.2</td>\n",
       "    </tr>\n",
       "    <tr>\n",
       "      <th>998</th>\n",
       "      <td>998</td>\n",
       "      <td>16.1</td>\n",
       "    </tr>\n",
       "    <tr>\n",
       "      <th>999</th>\n",
       "      <td>999</td>\n",
       "      <td>12.2</td>\n",
       "    </tr>\n",
       "  </tbody>\n",
       "</table>\n",
       "<p>1000 rows × 2 columns</p>\n",
       "</div>"
      ],
      "text/plain": [
       "     Unnamed: 0  value\n",
       "0             0   18.6\n",
       "1             1   12.9\n",
       "2             2   15.4\n",
       "3             3   14.4\n",
       "4             4   18.7\n",
       "..          ...    ...\n",
       "995         995   14.2\n",
       "996         996   10.3\n",
       "997         997   12.2\n",
       "998         998   16.1\n",
       "999         999   12.2\n",
       "\n",
       "[1000 rows x 2 columns]"
      ]
     },
     "execution_count": 6,
     "metadata": {},
     "output_type": "execute_result"
    }
   ],
   "source": [
    "import pandas as pd\n",
    "import numpy as np\n",
    "data = pd.read_excel(r\"C:\\\\Users\\ROG\\Desktop\\jupter\\number.xlsx\")\n",
    "data"
   ]
  },
  {
   "cell_type": "code",
   "execution_count": 9,
   "id": "f267b1ac",
   "metadata": {},
   "outputs": [
    {
     "name": "stdout",
     "output_type": "stream",
     "text": [
      "     Unnamed: 0  value\n",
      "116         116    NaN\n",
      "156         156    NaN\n",
      "177         177    NaN\n",
      "203         203    NaN\n",
      "240         240    NaN\n",
      "254         254    NaN\n",
      "284         284    NaN\n"
     ]
    }
   ],
   "source": [
    "missing_values = data.isnull().any(axis=1)\n",
    "rows_missing_values = data[missing_values]\n",
    "print(rows_missing_values)"
   ]
  },
  {
   "cell_type": "code",
   "execution_count": 11,
   "id": "a2431db6",
   "metadata": {},
   "outputs": [
    {
     "name": "stdout",
     "output_type": "stream",
     "text": [
      "Empty DataFrame\n",
      "Columns: [Unnamed: 0, value]\n",
      "Index: []\n"
     ]
    }
   ],
   "source": [
    "data = data.interpolate()\n",
    "missing_values = data.isnull().any(axis=1)\n",
    "rows_missing_values = data[missing_values]\n",
    "print(rows_missing_values)"
   ]
  },
  {
   "cell_type": "code",
   "execution_count": 2,
   "id": "da6cdfa5",
   "metadata": {},
   "outputs": [
    {
     "data": {
      "text/plain": [
       "<Axes: >"
      ]
     },
     "execution_count": 2,
     "metadata": {},
     "output_type": "execute_result"
    },
    {
     "data": {
      "image/png": "[encoded data removed]",
      "text/plain": [
       "<Figure size 640x480 with 1 Axes>"
      ]
     },
     "metadata": {},
     "output_type": "display_data"
    }
   ],
   "source": [
    "excel_data  = pd.read_excel(r\"C:\\\\Users\\ROG\\Desktop\\jupter\\number.xlsx\")\n",
    "excel_data.boxplot(column='value')"
   ]
  },
  {
   "cell_type": "code",
   "execution_count": 3,
   "id": "2e9c20ff",
   "metadata": {},
   "outputs": [
    {
     "data": {
      "text/plain": [
       "47    40.0\n",
       "60    29.0\n",
       "74    48.2\n",
       "Name: value, dtype: float64"
      ]
     },
     "execution_count": 3,
     "metadata": {},
     "output_type": "execute_result"
    }
   ],
   "source": [
    "def box_outliers(ser):\n",
    "    new_ser = ser.sort_values()\n",
    "    if new_ser.count() % 2 == 0:\n",
    "        Q3 = new_ser[int(len(new_ser) / 2):].median()\n",
    "        Q1 = new_ser[:int(len(new_ser) / 2)].median()\n",
    "    elif new_ser.count() % 2 != 0:\n",
    "        Q3 = new_ser[int((len(new_ser)-1) / 2):].median()\n",
    "        Q1 = new_ser[:int((len(new_ser)-1) / 2)].median()\n",
    "    IQR = round(Q3 - Q1, 1) \n",
    "    rule = (round(Q3+1.5*IQR, 1) < ser)|(round(Q1-1.5*IQR, 1) > ser)\n",
    "    index = np.arange(ser.shape[0])[rule]\n",
    "    outliers = ser.iloc[index]\n",
    "    return outliers\n",
    "excel_data = pd.read_excel(r\"C:\\\\Users\\ROG\\Desktop\\jupter\\number.xlsx\")\n",
    "box_outliers(excel_data['value'])"
   ]
  },
  {
   "cell_type": "code",
   "execution_count": 4,
   "id": "9d7974d4",
   "metadata": {},
   "outputs": [
    {
     "data": {
      "text/html": [
       "<div>\n",
       "<style scoped>\n",
       "    .dataframe tbody tr th:only-of-type {\n",
       "        vertical-align: middle;\n",
       "    }\n",
       "\n",
       "    .dataframe tbody tr th {\n",
       "        vertical-align: top;\n",
       "    }\n",
       "\n",
       "    .dataframe thead th {\n",
       "        text-align: right;\n",
       "    }\n",
       "</style>\n",
       "<table border=\"1\" class=\"dataframe\">\n",
       "  <thead>\n",
       "    <tr style=\"text-align: right;\">\n",
       "      <th></th>\n",
       "      <th>Unnamed: 0</th>\n",
       "      <th>value</th>\n",
       "    </tr>\n",
       "  </thead>\n",
       "  <tbody>\n",
       "    <tr>\n",
       "      <th>0</th>\n",
       "      <td>0</td>\n",
       "      <td>18.6</td>\n",
       "    </tr>\n",
       "    <tr>\n",
       "      <th>1</th>\n",
       "      <td>1</td>\n",
       "      <td>12.9</td>\n",
       "    </tr>\n",
       "    <tr>\n",
       "      <th>2</th>\n",
       "      <td>2</td>\n",
       "      <td>15.4</td>\n",
       "    </tr>\n",
       "    <tr>\n",
       "      <th>3</th>\n",
       "      <td>3</td>\n",
       "      <td>14.4</td>\n",
       "    </tr>\n",
       "    <tr>\n",
       "      <th>4</th>\n",
       "      <td>4</td>\n",
       "      <td>18.7</td>\n",
       "    </tr>\n",
       "    <tr>\n",
       "      <th>...</th>\n",
       "      <td>...</td>\n",
       "      <td>...</td>\n",
       "    </tr>\n",
       "    <tr>\n",
       "      <th>995</th>\n",
       "      <td>995</td>\n",
       "      <td>14.2</td>\n",
       "    </tr>\n",
       "    <tr>\n",
       "      <th>996</th>\n",
       "      <td>996</td>\n",
       "      <td>10.3</td>\n",
       "    </tr>\n",
       "    <tr>\n",
       "      <th>997</th>\n",
       "      <td>997</td>\n",
       "      <td>12.2</td>\n",
       "    </tr>\n",
       "    <tr>\n",
       "      <th>998</th>\n",
       "      <td>998</td>\n",
       "      <td>16.1</td>\n",
       "    </tr>\n",
       "    <tr>\n",
       "      <th>999</th>\n",
       "      <td>999</td>\n",
       "      <td>12.2</td>\n",
       "    </tr>\n",
       "  </tbody>\n",
       "</table>\n",
       "<p>997 rows × 2 columns</p>\n",
       "</div>"
      ],
      "text/plain": [
       "     Unnamed: 0  value\n",
       "0             0   18.6\n",
       "1             1   12.9\n",
       "2             2   15.4\n",
       "3             3   14.4\n",
       "4             4   18.7\n",
       "..          ...    ...\n",
       "995         995   14.2\n",
       "996         996   10.3\n",
       "997         997   12.2\n",
       "998         998   16.1\n",
       "999         999   12.2\n",
       "\n",
       "[997 rows x 2 columns]"
      ]
     },
     "execution_count": 4,
     "metadata": {},
     "output_type": "execute_result"
    }
   ],
   "source": [
    "excel_data.drop([47, 60,74])"
   ]
  },
  {
   "cell_type": "code",
   "execution_count": null,
   "id": "d8bf066e",
   "metadata": {},
   "outputs": [],
   "source": []
  }
 ],
 "metadata": {
  "kernelspec": {
   "display_name": "Python 3 (ipykernel)",
   "language": "python",
   "name": "python3"
  },
  "language_info": {
   "codemirror_mode": {
    "name": "ipython",
    "version": 3
   },
   "file_extension": ".py",
   "mimetype": "text/x-python",
   "name": "python",
   "nbconvert_exporter": "python",
   "pygments_lexer": "ipython3",
   "version": "3.10.9"
  }
 },
 "nbformat": 4,
 "nbformat_minor": 5
}
