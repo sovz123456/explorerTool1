{
 "cells": [
  {
   "cell_type": "code",
   "execution_count": 2,
   "id": "8b4e5f26",
   "metadata": {},
   "outputs": [
    {
     "name": "stdout",
     "output_type": "stream",
     "text": [
      "<class 'pandas.core.frame.DataFrame'>\n",
      "--------------------------------------------------\n",
      "                                 商品名称     价格    颜色\n",
      "0         Apple iPhone X (A1865) 64GB   6299  深空灰色\n",
      "1  Apple iPhone XS Max (A2104) 256GB   10999  深空灰色\n",
      "2       Apple iPhone XR (A2108) 128GB   6199    黑色\n",
      "3         Apple iPhone 8 (A1863) 64GB   3999  深空灰色\n",
      "4    Apple iPhone 8 Plus (A1864) 64GB   4799  深空灰色\n",
      "5        Apple iPhone XS (A2100) 64GB   8699  深空灰色\n",
      "6       Apple 苹果 iPhone Xs Max  256GB   9988    金色\n",
      "7             Apple 苹果 iPhone Xs 64GB   8058    金色\n",
      "8            Apple 苹果 iPhone XR 128GB   5788    黑色\n",
      "9         Apple iPhone 7 (A1660) 128G   4139  玫瑰金色\n"
     ]
    }
   ],
   "source": [
    "import pandas as pd\n",
    "evaluation_data = pd.read_csv(\"C:\\\\Users\\ROG\\Desktop\\phones.csv\",encoding='gbk')\n",
    "print(type(evaluation_data))\n",
    "print('-'*50)\n",
    "print(evaluation_data)"
   ]
  },
  {
   "cell_type": "code",
   "execution_count": 3,
   "id": "cc7ae708",
   "metadata": {},
   "outputs": [
    {
     "name": "stdout",
     "output_type": "stream",
     "text": [
      "                                        黑马程序员教程 教程网址\n",
      "0  学习线路图 https://book.itheima.net/learnline/12658...\n",
      "1  学习教程 https://book.itheima.net/course/126589944...\n",
      "2  面试宝典 https://book.itheima.net/study/1265899443...\n"
     ]
    }
   ],
   "source": [
    "txt_data = pd.read_csv(\"C:\\\\Users\\ROG\\Desktop\\itheima_books.txt\",encoding='utf8')\n",
    "print(txt_data)"
   ]
  },
  {
   "cell_type": "code",
   "execution_count": 10,
   "id": "83336ed3",
   "metadata": {},
   "outputs": [
    {
     "data": {
      "text/html": [
       "<div>\n",
       "<style scoped>\n",
       "    .dataframe tbody tr th:only-of-type {\n",
       "        vertical-align: middle;\n",
       "    }\n",
       "\n",
       "    .dataframe tbody tr th {\n",
       "        vertical-align: top;\n",
       "    }\n",
       "\n",
       "    .dataframe thead th {\n",
       "        text-align: right;\n",
       "    }\n",
       "</style>\n",
       "<table border=\"1\" class=\"dataframe\">\n",
       "  <thead>\n",
       "    <tr style=\"text-align: right;\">\n",
       "      <th></th>\n",
       "      <th>name</th>\n",
       "      <th>name2</th>\n",
       "      <th>gender</th>\n",
       "      <th>nation</th>\n",
       "      <th>birth</th>\n",
       "      <th>height/cm</th>\n",
       "      <th>weight</th>\n",
       "      <th>event</th>\n",
       "      <th>native place</th>\n",
       "    </tr>\n",
       "  </thead>\n",
       "  <tbody>\n",
       "    <tr>\n",
       "      <th>0</th>\n",
       "      <td>毕晓琳</td>\n",
       "      <td>Bi Xiaolin</td>\n",
       "      <td>女</td>\n",
       "      <td>中国</td>\n",
       "      <td>1989-09-18 00:00:00</td>\n",
       "      <td>NaN</td>\n",
       "      <td>NaN</td>\n",
       "      <td>足球</td>\n",
       "      <td>辽宁</td>\n",
       "    </tr>\n",
       "    <tr>\n",
       "      <th>1</th>\n",
       "      <td>鲍语晴</td>\n",
       "      <td>Bao Yuqing</td>\n",
       "      <td>女</td>\n",
       "      <td>中国</td>\n",
       "      <td>NaN</td>\n",
       "      <td>NaN</td>\n",
       "      <td>NaN</td>\n",
       "      <td>艺术体操</td>\n",
       "      <td>浙江</td>\n",
       "    </tr>\n",
       "    <tr>\n",
       "      <th>2</th>\n",
       "      <td>艾衍含</td>\n",
       "      <td>Ai Yanhan</td>\n",
       "      <td>女</td>\n",
       "      <td>中国</td>\n",
       "      <td>2002-02-07 00:00:00</td>\n",
       "      <td>NaN</td>\n",
       "      <td>NaN</td>\n",
       "      <td>游泳</td>\n",
       "      <td>湖北</td>\n",
       "    </tr>\n",
       "    <tr>\n",
       "      <th>3</th>\n",
       "      <td>卞卡</td>\n",
       "      <td>BIAN Ka</td>\n",
       "      <td>女</td>\n",
       "      <td>中国</td>\n",
       "      <td>1993-01-05 00:00:00</td>\n",
       "      <td>182.0</td>\n",
       "      <td>113kg</td>\n",
       "      <td>女子铅球</td>\n",
       "      <td>江苏</td>\n",
       "    </tr>\n",
       "    <tr>\n",
       "      <th>4</th>\n",
       "      <td>陈楠</td>\n",
       "      <td>Chen Nan</td>\n",
       "      <td>女</td>\n",
       "      <td>中国</td>\n",
       "      <td>1983-12-08 00:00:00</td>\n",
       "      <td>197.0</td>\n",
       "      <td>90kg</td>\n",
       "      <td>篮球</td>\n",
       "      <td>青岛胶南</td>\n",
       "    </tr>\n",
       "  </tbody>\n",
       "</table>\n",
       "</div>"
      ],
      "text/plain": [
       "   name       name2 gender nation                birth  height/cm weight  \\\n",
       "0  毕晓琳   Bi Xiaolin      女     中国  1989-09-18 00:00:00        NaN    NaN   \n",
       "1  鲍语晴   Bao Yuqing      女     中国                  NaN        NaN    NaN   \n",
       "2  艾衍含    Ai Yanhan      女     中国  2002-02-07 00:00:00        NaN    NaN   \n",
       "3   卞卡      BIAN Ka      女     中国  1993-01-05 00:00:00      182.0  113kg   \n",
       "4   陈楠     Chen Nan      女     中国  1983-12-08 00:00:00      197.0   90kg   \n",
       "\n",
       "  event native place  \n",
       "0    足球           辽宁  \n",
       "1  艺术体操           浙江  \n",
       "2    游泳           湖北  \n",
       "3  女子铅球           江苏  \n",
       "4    篮球         青岛胶南  "
      ]
     },
     "execution_count": 10,
     "metadata": {},
     "output_type": "execute_result"
    }
   ],
   "source": [
    "import pandas as pd\n",
    "excel_data = pd.read_excel(\"C:\\\\Users\\ROG\\Desktop\\jupter\\Athletes_info.xlsx\",sheet_name=0)\n",
    "excel_data.head(5)"
   ]
  },
  {
   "cell_type": "code",
   "execution_count": 11,
   "id": "266c3bac",
   "metadata": {},
   "outputs": [
    {
     "data": {
      "text/html": [
       "<div>\n",
       "<style scoped>\n",
       "    .dataframe tbody tr th:only-of-type {\n",
       "        vertical-align: middle;\n",
       "    }\n",
       "\n",
       "    .dataframe tbody tr th {\n",
       "        vertical-align: top;\n",
       "    }\n",
       "\n",
       "    .dataframe thead th {\n",
       "        text-align: right;\n",
       "    }\n",
       "</style>\n",
       "<table border=\"1\" class=\"dataframe\">\n",
       "  <thead>\n",
       "    <tr style=\"text-align: right;\">\n",
       "      <th></th>\n",
       "      <th>哺乳动物</th>\n",
       "      <th>鱼类动物</th>\n",
       "      <th>飞禽类动物</th>\n",
       "      <th>昆虫类动物</th>\n",
       "    </tr>\n",
       "  </thead>\n",
       "  <tbody>\n",
       "    <tr>\n",
       "      <th>0</th>\n",
       "      <td>虎</td>\n",
       "      <td>龙鱼</td>\n",
       "      <td>丹顶鹤</td>\n",
       "      <td>蝴蝶</td>\n",
       "    </tr>\n",
       "    <tr>\n",
       "      <th>1</th>\n",
       "      <td>猴子</td>\n",
       "      <td>鲶鱼</td>\n",
       "      <td>金雕</td>\n",
       "      <td>金龟子</td>\n",
       "    </tr>\n",
       "    <tr>\n",
       "      <th>2</th>\n",
       "      <td>狗</td>\n",
       "      <td>鳟鱼</td>\n",
       "      <td>白鹭</td>\n",
       "      <td>蜜蜂</td>\n",
       "    </tr>\n",
       "    <tr>\n",
       "      <th>3</th>\n",
       "      <td>猫</td>\n",
       "      <td>章鱼</td>\n",
       "      <td>鸽子</td>\n",
       "      <td>蜻蜓</td>\n",
       "    </tr>\n",
       "    <tr>\n",
       "      <th>4</th>\n",
       "      <td>鹿</td>\n",
       "      <td>草鱼</td>\n",
       "      <td>天鹅</td>\n",
       "      <td>螳螂</td>\n",
       "    </tr>\n",
       "  </tbody>\n",
       "</table>\n",
       "</div>"
      ],
      "text/plain": [
       "  哺乳动物 鱼类动物 飞禽类动物 昆虫类动物\n",
       "0    虎   龙鱼   丹顶鹤    蝴蝶\n",
       "1   猴子   鲶鱼    金雕   金龟子\n",
       "2    狗   鳟鱼    白鹭    蜜蜂\n",
       "3    猫   章鱼    鸽子    蜻蜓\n",
       "4    鹿   草鱼    天鹅    螳螂"
      ]
     },
     "execution_count": 11,
     "metadata": {},
     "output_type": "execute_result"
    }
   ],
   "source": [
    "import pandas as pd\n",
    "# 读取JSON文件，指定编码为utf8\n",
    "json_data = pd.read_json(\"C:\\\\Users\\ROG\\Desktop\\jupter\\Animal_species.json\", encoding='utf8')\n",
    "json_data"
   ]
  },
  {
   "cell_type": "code",
   "execution_count": 12,
   "id": "e9ae8d17",
   "metadata": {},
   "outputs": [
    {
     "data": {
      "text/html": [
       "<div>\n",
       "<style scoped>\n",
       "    .dataframe tbody tr th:only-of-type {\n",
       "        vertical-align: middle;\n",
       "    }\n",
       "\n",
       "    .dataframe tbody tr th {\n",
       "        vertical-align: top;\n",
       "    }\n",
       "\n",
       "    .dataframe thead th {\n",
       "        text-align: right;\n",
       "    }\n",
       "</style>\n",
       "<table border=\"1\" class=\"dataframe\">\n",
       "  <thead>\n",
       "    <tr style=\"text-align: right;\">\n",
       "      <th></th>\n",
       "      <th>Year</th>\n",
       "      <th>Winner</th>\n",
       "    </tr>\n",
       "  </thead>\n",
       "  <tbody>\n",
       "    <tr>\n",
       "      <th>0</th>\n",
       "      <td>2023</td>\n",
       "      <td>C#</td>\n",
       "    </tr>\n",
       "    <tr>\n",
       "      <th>1</th>\n",
       "      <td>2022</td>\n",
       "      <td>C++</td>\n",
       "    </tr>\n",
       "    <tr>\n",
       "      <th>2</th>\n",
       "      <td>2021</td>\n",
       "      <td>Python</td>\n",
       "    </tr>\n",
       "    <tr>\n",
       "      <th>3</th>\n",
       "      <td>2020</td>\n",
       "      <td>Python</td>\n",
       "    </tr>\n",
       "    <tr>\n",
       "      <th>4</th>\n",
       "      <td>2019</td>\n",
       "      <td>C</td>\n",
       "    </tr>\n",
       "  </tbody>\n",
       "</table>\n",
       "</div>"
      ],
      "text/plain": [
       "   Year  Winner\n",
       "0  2023      C#\n",
       "1  2022     C++\n",
       "2  2021  Python\n",
       "3  2020  Python\n",
       "4  2019       C"
      ]
     },
     "execution_count": 12,
     "metadata": {},
     "output_type": "execute_result"
    }
   ],
   "source": [
    "import requests  \n",
    "# 获取数据\n",
    "html_data = requests.get('https://www.tiobe.com/tiobe-index/')\n",
    "# 读取网页中所有表格数据\n",
    "html_table_data = pd.read_html(html_data.content, encoding='utf-8')\n",
    "# 获取索引为3的表格数据\n",
    "html_table_data[3].head(5)"
   ]
  },
  {
   "cell_type": "code",
   "execution_count": 15,
   "id": "e1fc12fc",
   "metadata": {},
   "outputs": [
    {
     "name": "stdout",
     "output_type": "stream",
     "text": [
      "集合\n",
      "Python的集合（set）本身是可变类型，但Python要求放入集合中的元素必须是不可变类型；集合类型与列表和元组的区别是：集合中的元素无序但必须唯一。下面分创建集合、集合的常见操作和集合推导式三部分对集合进行介绍。\n",
      "集合的常见操作\n",
      "集合是可变的，集合中的元素可以动态增加或删除。Python提供了一些内置方法来操作集合，操作集合的常见方法如下表所示。\n",
      "操作集合的常见方法\n",
      "\n"
     ]
    }
   ],
   "source": [
    "from docx import Document\n",
    "docx = Document(\"C:\\\\Users\\ROG\\Desktop\\jupter\\集合介绍.docx\")\n",
    "paragraphs = docx.paragraphs\n",
    "for i in paragraphs:\n",
    "    print(i.text)"
   ]
  },
  {
   "cell_type": "code",
   "execution_count": 16,
   "id": "fca93f82",
   "metadata": {},
   "outputs": [
    {
     "name": "stdout",
     "output_type": "stream",
     "text": [
      "['常见方法', '说明']\n",
      "['add(x)', '向集合中添加元素x，x已存在时不作处理']\n",
      "['remove(x)', '删除集合中的元素x，若x不存在则抛出KeyError异常']\n",
      "['discard(x)', '删除集合中的元素x，若x不存在不作处理']\n",
      "['pop()', '随机返回集合中的一个元素，同时删除该元素。若集合为空，抛出KeyError异常']\n",
      "['clear()', '清空集合 ']\n",
      "['copy()', '拷贝集合，返回值为集合']\n",
      "['isdisjoint(T)', '判断集合与集合T是否没有相同的元素，没有返回True，有则返回False']\n"
     ]
    }
   ],
   "source": [
    "from docx import Document\n",
    "doc = Document(\"C:\\\\Users\\ROG\\Desktop\\jupter\\集合介绍.docx\")\n",
    "tables = doc.tables\n",
    "for table in tables:\n",
    "    for row in table.rows:\n",
    "        row_content = []                      \n",
    "        for cell in row.cells[:]:           \n",
    "            row_content.append(cell.text) \n",
    "        print(row_content)   "
   ]
  },
  {
   "cell_type": "code",
   "execution_count": 17,
   "id": "1b760645",
   "metadata": {},
   "outputs": [
    {
     "name": "stdout",
     "output_type": "stream",
     "text": [
      "集合\n",
      "Python 的集合（set）本身是可变类型，但 Python 要求放入集合中的元素必\n",
      "须是不可变类型；集合类型与列表和元组的区别是：集合中的元素无序但必须唯\n",
      "一。下面分创建集合、集合的常见操作和集合推导式三部分对集合进行介绍。\n",
      "集合的常见操作\n",
      "集合是可变的，集合中的元素可以动态增加或删除。Python 提供了一些内置\n",
      "方法来操作集合，操作集合的常见方法如下表所示。\n",
      "操作集合的常见方法\n",
      "常见方法 说明\n",
      "add(x) 向集合中添加元素x，x 已存在时不作处理\n",
      "remove(x) 删除集合中的元素x，若x 不存在则抛出KeyError异常\n",
      "discard(x) 删除集合中的元素x，若x 不存在不作处理\n",
      "随机返回集合中的一个元素，同时删除该元素。若集合为空，\n",
      "pop()\n",
      "抛出KeyError异常\n",
      "clear() 清空集合\n",
      "copy() 拷贝集合，返回值为集合\n",
      "判断集合与集合T是否没有相同的元素，没有返回True，\n",
      "isdisjoint(T)\n",
      "有则返回False\n"
     ]
    }
   ],
   "source": [
    "import pdfplumber\n",
    "with pdfplumber.open(\"C:\\\\Users\\ROG\\Desktop\\jupter\\集合介绍.pdf\") as pdf:\n",
    "    print(pdf.pages[0].extract_text())"
   ]
  },
  {
   "cell_type": "code",
   "execution_count": 18,
   "id": "3c5a3eb2",
   "metadata": {},
   "outputs": [
    {
     "name": "stdout",
     "output_type": "stream",
     "text": [
      "[['', '常见方法', '', '', '说明', ''], ['add(x)', None, None, '向集合中添加元素x，x 已存在时不作处理', None, None], ['remove(x)', None, None, '删除集合中的元素x，若x 不存在则抛出KeyError异常', None, None], ['discard(x)', None, None, '删除集合中的元素x，若x 不存在不作处理', None, None], ['pop()', None, None, '随机返回集合中的一个元素，同时删除该元素。若集合为空，\\n抛出KeyError异常', None, None], ['clear()', None, None, '清空集合', None, None], ['copy()', None, None, '拷贝集合，返回值为集合', None, None], ['isdisjoint(T)', None, None, '判断集合与集合T是否没有相同的元素，没有返回True，\\n有则返回False', None, None]]\n"
     ]
    }
   ],
   "source": [
    "import pdfplumber\n",
    "with pdfplumber.open(\"C:\\\\Users\\ROG\\Desktop\\jupter\\集合介绍.pdf\") as pdf:\n",
    "    for page in pdf.pages:\n",
    "        for table in page.extract_tables():\n",
    "            print(table)"
   ]
  },
  {
   "cell_type": "code",
   "execution_count": 19,
   "id": "019fad22",
   "metadata": {},
   "outputs": [
    {
     "name": "stdout",
     "output_type": "stream",
     "text": [
      "['常见方法', '说明']\n",
      "['add(x)', '向集合中添加元素x，x 已存在时不作处理']\n",
      "['remove(x)', '删除集合中的元素x，若x 不存在则抛出KeyError异常']\n",
      "['discard(x)', '删除集合中的元素x，若x 不存在不作处理']\n",
      "['pop()', '随机返回集合中的一个元素，同时删除该元素。若集合为空，抛出KeyError异常']\n",
      "['clear()', '清空集合']\n",
      "['copy()', '拷贝集合，返回值为集合']\n",
      "['isdisjoint(T)', '判断集合与集合T是否没有相同的元素，没有返回True，有则返回False']\n"
     ]
    }
   ],
   "source": [
    "import re\n",
    "with pdfplumber.open(\"C:\\\\Users\\ROG\\Desktop\\jupter\\集合介绍.pdf\") as pdf:\n",
    "    for page in pdf.pages:\n",
    "        for table in page.extract_tables():\n",
    "            for data in table:\n",
    "                clean_data = list(filter(None, data))\n",
    "                print([re.sub(\"\\n\" ,'',value) for value in clean_data])"
   ]
  },
  {
   "cell_type": "code",
   "execution_count": 1,
   "id": "d27991b3",
   "metadata": {},
   "outputs": [
    {
     "data": {
      "text/html": [
       "<div>\n",
       "<style scoped>\n",
       "    .dataframe tbody tr th:only-of-type {\n",
       "        vertical-align: middle;\n",
       "    }\n",
       "\n",
       "    .dataframe tbody tr th {\n",
       "        vertical-align: top;\n",
       "    }\n",
       "\n",
       "    .dataframe thead th {\n",
       "        text-align: right;\n",
       "    }\n",
       "</style>\n",
       "<table border=\"1\" class=\"dataframe\">\n",
       "  <thead>\n",
       "    <tr style=\"text-align: right;\">\n",
       "      <th></th>\n",
       "      <th>A</th>\n",
       "      <th>B</th>\n",
       "      <th>C</th>\n",
       "      <th>D</th>\n",
       "    </tr>\n",
       "  </thead>\n",
       "  <tbody>\n",
       "    <tr>\n",
       "      <th>0</th>\n",
       "      <td>1.0</td>\n",
       "      <td>3</td>\n",
       "      <td>5</td>\n",
       "      <td>7.0</td>\n",
       "    </tr>\n",
       "    <tr>\n",
       "      <th>1</th>\n",
       "      <td>2.0</td>\n",
       "      <td>4</td>\n",
       "      <td>6</td>\n",
       "      <td>5.0</td>\n",
       "    </tr>\n",
       "    <tr>\n",
       "      <th>2</th>\n",
       "      <td>NaN</td>\n",
       "      <td>4</td>\n",
       "      <td>7</td>\n",
       "      <td>NaN</td>\n",
       "    </tr>\n",
       "    <tr>\n",
       "      <th>3</th>\n",
       "      <td>4.0</td>\n",
       "      <td>5</td>\n",
       "      <td>8</td>\n",
       "      <td>NaN</td>\n",
       "    </tr>\n",
       "  </tbody>\n",
       "</table>\n",
       "</div>"
      ],
      "text/plain": [
       "     A  B  C    D\n",
       "0  1.0  3  5  7.0\n",
       "1  2.0  4  6  5.0\n",
       "2  NaN  4  7  NaN\n",
       "3  4.0  5  8  NaN"
      ]
     },
     "execution_count": 1,
     "metadata": {},
     "output_type": "execute_result"
    }
   ],
   "source": [
    "import pandas as pd\n",
    "import numpy as np\n",
    "na_df = pd.DataFrame({'A':[1, 2, np.NaN, 4],\n",
    "                          'B':[3, 4, 4, 5],\n",
    "                          'C':[5, 6, 7, 8],\n",
    "                          'D':[7, 5, np.NaN, np.NaN]})\n",
    "na_df"
   ]
  },
  {
   "cell_type": "code",
   "execution_count": 2,
   "id": "a366712c",
   "metadata": {},
   "outputs": [
    {
     "data": {
      "text/html": [
       "<div>\n",
       "<style scoped>\n",
       "    .dataframe tbody tr th:only-of-type {\n",
       "        vertical-align: middle;\n",
       "    }\n",
       "\n",
       "    .dataframe tbody tr th {\n",
       "        vertical-align: top;\n",
       "    }\n",
       "\n",
       "    .dataframe thead th {\n",
       "        text-align: right;\n",
       "    }\n",
       "</style>\n",
       "<table border=\"1\" class=\"dataframe\">\n",
       "  <thead>\n",
       "    <tr style=\"text-align: right;\">\n",
       "      <th></th>\n",
       "      <th>A</th>\n",
       "      <th>B</th>\n",
       "      <th>C</th>\n",
       "      <th>D</th>\n",
       "    </tr>\n",
       "  </thead>\n",
       "  <tbody>\n",
       "    <tr>\n",
       "      <th>0</th>\n",
       "      <td>False</td>\n",
       "      <td>False</td>\n",
       "      <td>False</td>\n",
       "      <td>False</td>\n",
       "    </tr>\n",
       "    <tr>\n",
       "      <th>1</th>\n",
       "      <td>False</td>\n",
       "      <td>False</td>\n",
       "      <td>False</td>\n",
       "      <td>False</td>\n",
       "    </tr>\n",
       "    <tr>\n",
       "      <th>2</th>\n",
       "      <td>True</td>\n",
       "      <td>False</td>\n",
       "      <td>False</td>\n",
       "      <td>True</td>\n",
       "    </tr>\n",
       "    <tr>\n",
       "      <th>3</th>\n",
       "      <td>False</td>\n",
       "      <td>False</td>\n",
       "      <td>False</td>\n",
       "      <td>True</td>\n",
       "    </tr>\n",
       "  </tbody>\n",
       "</table>\n",
       "</div>"
      ],
      "text/plain": [
       "       A      B      C      D\n",
       "0  False  False  False  False\n",
       "1  False  False  False  False\n",
       "2   True  False  False   True\n",
       "3  False  False  False   True"
      ]
     },
     "execution_count": 2,
     "metadata": {},
     "output_type": "execute_result"
    }
   ],
   "source": [
    "#使用isna()方法检测na_df中是否存在缺失值\n",
    "na_df.isna()"
   ]
  },
  {
   "cell_type": "code",
   "execution_count": 3,
   "id": "31472caf",
   "metadata": {},
   "outputs": [
    {
     "data": {
      "text/html": [
       "<div>\n",
       "<style scoped>\n",
       "    .dataframe tbody tr th:only-of-type {\n",
       "        vertical-align: middle;\n",
       "    }\n",
       "\n",
       "    .dataframe tbody tr th {\n",
       "        vertical-align: top;\n",
       "    }\n",
       "\n",
       "    .dataframe thead th {\n",
       "        text-align: right;\n",
       "    }\n",
       "</style>\n",
       "<table border=\"1\" class=\"dataframe\">\n",
       "  <thead>\n",
       "    <tr style=\"text-align: right;\">\n",
       "      <th></th>\n",
       "      <th>A</th>\n",
       "      <th>B</th>\n",
       "      <th>C</th>\n",
       "      <th>D</th>\n",
       "    </tr>\n",
       "  </thead>\n",
       "  <tbody>\n",
       "    <tr>\n",
       "      <th>0</th>\n",
       "      <td>True</td>\n",
       "      <td>True</td>\n",
       "      <td>True</td>\n",
       "      <td>True</td>\n",
       "    </tr>\n",
       "    <tr>\n",
       "      <th>1</th>\n",
       "      <td>True</td>\n",
       "      <td>True</td>\n",
       "      <td>True</td>\n",
       "      <td>True</td>\n",
       "    </tr>\n",
       "    <tr>\n",
       "      <th>2</th>\n",
       "      <td>False</td>\n",
       "      <td>True</td>\n",
       "      <td>True</td>\n",
       "      <td>False</td>\n",
       "    </tr>\n",
       "    <tr>\n",
       "      <th>3</th>\n",
       "      <td>True</td>\n",
       "      <td>True</td>\n",
       "      <td>True</td>\n",
       "      <td>False</td>\n",
       "    </tr>\n",
       "  </tbody>\n",
       "</table>\n",
       "</div>"
      ],
      "text/plain": [
       "       A     B     C      D\n",
       "0   True  True  True   True\n",
       "1   True  True  True   True\n",
       "2  False  True  True  False\n",
       "3   True  True  True  False"
      ]
     },
     "execution_count": 3,
     "metadata": {},
     "output_type": "execute_result"
    }
   ],
   "source": [
    "na_df.notna()"
   ]
  },
  {
   "cell_type": "code",
   "execution_count": 4,
   "id": "e9b9ae22",
   "metadata": {},
   "outputs": [
    {
     "data": {
      "text/html": [
       "<div>\n",
       "<style scoped>\n",
       "    .dataframe tbody tr th:only-of-type {\n",
       "        vertical-align: middle;\n",
       "    }\n",
       "\n",
       "    .dataframe tbody tr th {\n",
       "        vertical-align: top;\n",
       "    }\n",
       "\n",
       "    .dataframe thead th {\n",
       "        text-align: right;\n",
       "    }\n",
       "</style>\n",
       "<table border=\"1\" class=\"dataframe\">\n",
       "  <thead>\n",
       "    <tr style=\"text-align: right;\">\n",
       "      <th></th>\n",
       "      <th>A</th>\n",
       "      <th>B</th>\n",
       "      <th>C</th>\n",
       "      <th>D</th>\n",
       "    </tr>\n",
       "  </thead>\n",
       "  <tbody>\n",
       "    <tr>\n",
       "      <th>0</th>\n",
       "      <td>1.0</td>\n",
       "      <td>3</td>\n",
       "      <td>5</td>\n",
       "      <td>7.0</td>\n",
       "    </tr>\n",
       "    <tr>\n",
       "      <th>1</th>\n",
       "      <td>2.0</td>\n",
       "      <td>4</td>\n",
       "      <td>6</td>\n",
       "      <td>5.0</td>\n",
       "    </tr>\n",
       "  </tbody>\n",
       "</table>\n",
       "</div>"
      ],
      "text/plain": [
       "     A  B  C    D\n",
       "0  1.0  3  5  7.0\n",
       "1  2.0  4  6  5.0"
      ]
     },
     "execution_count": 4,
     "metadata": {},
     "output_type": "execute_result"
    }
   ],
   "source": [
    "# 删除缺失值所在的一行数据\n",
    "na_df.dropna()"
   ]
  },
  {
   "cell_type": "code",
   "execution_count": 5,
   "id": "556d838e",
   "metadata": {},
   "outputs": [
    {
     "data": {
      "text/html": [
       "<div>\n",
       "<style scoped>\n",
       "    .dataframe tbody tr th:only-of-type {\n",
       "        vertical-align: middle;\n",
       "    }\n",
       "\n",
       "    .dataframe tbody tr th {\n",
       "        vertical-align: top;\n",
       "    }\n",
       "\n",
       "    .dataframe thead th {\n",
       "        text-align: right;\n",
       "    }\n",
       "</style>\n",
       "<table border=\"1\" class=\"dataframe\">\n",
       "  <thead>\n",
       "    <tr style=\"text-align: right;\">\n",
       "      <th></th>\n",
       "      <th>A</th>\n",
       "      <th>B</th>\n",
       "      <th>C</th>\n",
       "      <th>D</th>\n",
       "    </tr>\n",
       "  </thead>\n",
       "  <tbody>\n",
       "    <tr>\n",
       "      <th>0</th>\n",
       "      <td>1.0</td>\n",
       "      <td>3</td>\n",
       "      <td>5</td>\n",
       "      <td>7.0</td>\n",
       "    </tr>\n",
       "    <tr>\n",
       "      <th>1</th>\n",
       "      <td>2.0</td>\n",
       "      <td>4</td>\n",
       "      <td>6</td>\n",
       "      <td>5.0</td>\n",
       "    </tr>\n",
       "    <tr>\n",
       "      <th>3</th>\n",
       "      <td>4.0</td>\n",
       "      <td>5</td>\n",
       "      <td>8</td>\n",
       "      <td>NaN</td>\n",
       "    </tr>\n",
       "  </tbody>\n",
       "</table>\n",
       "</div>"
      ],
      "text/plain": [
       "     A  B  C    D\n",
       "0  1.0  3  5  7.0\n",
       "1  2.0  4  6  5.0\n",
       "3  4.0  5  8  NaN"
      ]
     },
     "execution_count": 5,
     "metadata": {},
     "output_type": "execute_result"
    }
   ],
   "source": [
    "# 保留至少有3个非NaN值的行\n",
    "na_df.dropna(thresh=3)"
   ]
  },
  {
   "cell_type": "code",
   "execution_count": 6,
   "id": "32c2ce29",
   "metadata": {},
   "outputs": [
    {
     "data": {
      "text/html": [
       "<div>\n",
       "<style scoped>\n",
       "    .dataframe tbody tr th:only-of-type {\n",
       "        vertical-align: middle;\n",
       "    }\n",
       "\n",
       "    .dataframe tbody tr th {\n",
       "        vertical-align: top;\n",
       "    }\n",
       "\n",
       "    .dataframe thead th {\n",
       "        text-align: right;\n",
       "    }\n",
       "</style>\n",
       "<table border=\"1\" class=\"dataframe\">\n",
       "  <thead>\n",
       "    <tr style=\"text-align: right;\">\n",
       "      <th></th>\n",
       "      <th>A</th>\n",
       "      <th>B</th>\n",
       "      <th>C</th>\n",
       "      <th>D</th>\n",
       "    </tr>\n",
       "  </thead>\n",
       "  <tbody>\n",
       "    <tr>\n",
       "      <th>0</th>\n",
       "      <td>1.0</td>\n",
       "      <td>3</td>\n",
       "      <td>5</td>\n",
       "      <td>7.0</td>\n",
       "    </tr>\n",
       "    <tr>\n",
       "      <th>1</th>\n",
       "      <td>2.0</td>\n",
       "      <td>4</td>\n",
       "      <td>6</td>\n",
       "      <td>5.0</td>\n",
       "    </tr>\n",
       "    <tr>\n",
       "      <th>2</th>\n",
       "      <td>2.3</td>\n",
       "      <td>4</td>\n",
       "      <td>7</td>\n",
       "      <td>6.0</td>\n",
       "    </tr>\n",
       "    <tr>\n",
       "      <th>3</th>\n",
       "      <td>4.0</td>\n",
       "      <td>5</td>\n",
       "      <td>8</td>\n",
       "      <td>6.0</td>\n",
       "    </tr>\n",
       "  </tbody>\n",
       "</table>\n",
       "</div>"
      ],
      "text/plain": [
       "     A  B  C    D\n",
       "0  1.0  3  5  7.0\n",
       "1  2.0  4  6  5.0\n",
       "2  2.3  4  7  6.0\n",
       "3  4.0  5  8  6.0"
      ]
     },
     "execution_count": 6,
     "metadata": {},
     "output_type": "execute_result"
    }
   ],
   "source": [
    "# 计算A列的平均数，并保留一位小数\n",
    "col_a = np.around(np.mean(na_df['A']), 1)\n",
    "# 计算D列的平均数，并保留一位小数\n",
    "col_d = np.around(np.mean(na_df['D']), 1)\n",
    "# 将计算的平均数填充到指定的列\n",
    "na_df.fillna({'A':col_a, 'D':col_d})"
   ]
  },
  {
   "cell_type": "code",
   "execution_count": 7,
   "id": "9aaa2613",
   "metadata": {},
   "outputs": [
    {
     "data": {
      "text/html": [
       "<div>\n",
       "<style scoped>\n",
       "    .dataframe tbody tr th:only-of-type {\n",
       "        vertical-align: middle;\n",
       "    }\n",
       "\n",
       "    .dataframe tbody tr th {\n",
       "        vertical-align: top;\n",
       "    }\n",
       "\n",
       "    .dataframe thead th {\n",
       "        text-align: right;\n",
       "    }\n",
       "</style>\n",
       "<table border=\"1\" class=\"dataframe\">\n",
       "  <thead>\n",
       "    <tr style=\"text-align: right;\">\n",
       "      <th></th>\n",
       "      <th>A</th>\n",
       "      <th>B</th>\n",
       "      <th>C</th>\n",
       "      <th>D</th>\n",
       "    </tr>\n",
       "  </thead>\n",
       "  <tbody>\n",
       "    <tr>\n",
       "      <th>0</th>\n",
       "      <td>1.0</td>\n",
       "      <td>3</td>\n",
       "      <td>5</td>\n",
       "      <td>7.0</td>\n",
       "    </tr>\n",
       "    <tr>\n",
       "      <th>1</th>\n",
       "      <td>2.0</td>\n",
       "      <td>4</td>\n",
       "      <td>6</td>\n",
       "      <td>5.0</td>\n",
       "    </tr>\n",
       "    <tr>\n",
       "      <th>2</th>\n",
       "      <td>2.0</td>\n",
       "      <td>4</td>\n",
       "      <td>7</td>\n",
       "      <td>5.0</td>\n",
       "    </tr>\n",
       "    <tr>\n",
       "      <th>3</th>\n",
       "      <td>4.0</td>\n",
       "      <td>5</td>\n",
       "      <td>8</td>\n",
       "      <td>5.0</td>\n",
       "    </tr>\n",
       "  </tbody>\n",
       "</table>\n",
       "</div>"
      ],
      "text/plain": [
       "     A  B  C    D\n",
       "0  1.0  3  5  7.0\n",
       "1  2.0  4  6  5.0\n",
       "2  2.0  4  7  5.0\n",
       "3  4.0  5  8  5.0"
      ]
     },
     "execution_count": 7,
     "metadata": {},
     "output_type": "execute_result"
    }
   ],
   "source": [
    "na_df.fillna(method='ffill')"
   ]
  },
  {
   "cell_type": "code",
   "execution_count": 8,
   "id": "f39c6149",
   "metadata": {},
   "outputs": [
    {
     "data": {
      "text/html": [
       "<div>\n",
       "<style scoped>\n",
       "    .dataframe tbody tr th:only-of-type {\n",
       "        vertical-align: middle;\n",
       "    }\n",
       "\n",
       "    .dataframe tbody tr th {\n",
       "        vertical-align: top;\n",
       "    }\n",
       "\n",
       "    .dataframe thead th {\n",
       "        text-align: right;\n",
       "    }\n",
       "</style>\n",
       "<table border=\"1\" class=\"dataframe\">\n",
       "  <thead>\n",
       "    <tr style=\"text-align: right;\">\n",
       "      <th></th>\n",
       "      <th>A</th>\n",
       "      <th>B</th>\n",
       "      <th>C</th>\n",
       "      <th>D</th>\n",
       "    </tr>\n",
       "  </thead>\n",
       "  <tbody>\n",
       "    <tr>\n",
       "      <th>0</th>\n",
       "      <td>1.0</td>\n",
       "      <td>3</td>\n",
       "      <td>5</td>\n",
       "      <td>7.0</td>\n",
       "    </tr>\n",
       "    <tr>\n",
       "      <th>1</th>\n",
       "      <td>2.0</td>\n",
       "      <td>4</td>\n",
       "      <td>6</td>\n",
       "      <td>5.0</td>\n",
       "    </tr>\n",
       "    <tr>\n",
       "      <th>2</th>\n",
       "      <td>3.0</td>\n",
       "      <td>4</td>\n",
       "      <td>7</td>\n",
       "      <td>5.0</td>\n",
       "    </tr>\n",
       "    <tr>\n",
       "      <th>3</th>\n",
       "      <td>4.0</td>\n",
       "      <td>5</td>\n",
       "      <td>8</td>\n",
       "      <td>5.0</td>\n",
       "    </tr>\n",
       "  </tbody>\n",
       "</table>\n",
       "</div>"
      ],
      "text/plain": [
       "     A  B  C    D\n",
       "0  1.0  3  5  7.0\n",
       "1  2.0  4  6  5.0\n",
       "2  3.0  4  7  5.0\n",
       "3  4.0  5  8  5.0"
      ]
     },
     "execution_count": 8,
     "metadata": {},
     "output_type": "execute_result"
    }
   ],
   "source": [
    "na_df.interpolate(method='linear')"
   ]
  },
  {
   "cell_type": "code",
   "execution_count": 9,
   "id": "754ebee9",
   "metadata": {},
   "outputs": [
    {
     "data": {
      "text/html": [
       "<div>\n",
       "<style scoped>\n",
       "    .dataframe tbody tr th:only-of-type {\n",
       "        vertical-align: middle;\n",
       "    }\n",
       "\n",
       "    .dataframe tbody tr th {\n",
       "        vertical-align: top;\n",
       "    }\n",
       "\n",
       "    .dataframe thead th {\n",
       "        text-align: right;\n",
       "    }\n",
       "</style>\n",
       "<table border=\"1\" class=\"dataframe\">\n",
       "  <thead>\n",
       "    <tr style=\"text-align: right;\">\n",
       "      <th></th>\n",
       "      <th>name</th>\n",
       "      <th>age</th>\n",
       "      <th>height</th>\n",
       "      <th>gender</th>\n",
       "    </tr>\n",
       "  </thead>\n",
       "  <tbody>\n",
       "    <tr>\n",
       "      <th>0</th>\n",
       "      <td>刘婷婷</td>\n",
       "      <td>24</td>\n",
       "      <td>162</td>\n",
       "      <td>女</td>\n",
       "    </tr>\n",
       "    <tr>\n",
       "      <th>1</th>\n",
       "      <td>王淼</td>\n",
       "      <td>23</td>\n",
       "      <td>165</td>\n",
       "      <td>女</td>\n",
       "    </tr>\n",
       "    <tr>\n",
       "      <th>2</th>\n",
       "      <td>彭岩</td>\n",
       "      <td>29</td>\n",
       "      <td>175</td>\n",
       "      <td>男</td>\n",
       "    </tr>\n",
       "    <tr>\n",
       "      <th>3</th>\n",
       "      <td>刘华</td>\n",
       "      <td>22</td>\n",
       "      <td>175</td>\n",
       "      <td>男</td>\n",
       "    </tr>\n",
       "    <tr>\n",
       "      <th>4</th>\n",
       "      <td>刘华</td>\n",
       "      <td>22</td>\n",
       "      <td>175</td>\n",
       "      <td>男</td>\n",
       "    </tr>\n",
       "    <tr>\n",
       "      <th>5</th>\n",
       "      <td>周华</td>\n",
       "      <td>27</td>\n",
       "      <td>178</td>\n",
       "      <td>男</td>\n",
       "    </tr>\n",
       "  </tbody>\n",
       "</table>\n",
       "</div>"
      ],
      "text/plain": [
       "  name  age  height gender\n",
       "0  刘婷婷   24     162      女\n",
       "1   王淼   23     165      女\n",
       "2   彭岩   29     175      男\n",
       "3   刘华   22     175      男\n",
       "4   刘华   22     175      男\n",
       "5   周华   27     178      男"
      ]
     },
     "execution_count": 9,
     "metadata": {},
     "output_type": "execute_result"
    }
   ],
   "source": [
    "person_info = pd.DataFrame({'name': ['刘婷婷', '王淼', '彭岩', '刘华', '刘华', '周华'],\n",
    "                'age': [24, 23, 29, 22, 22, 27],\n",
    "                'height': [162, 165, 175, 175, 175, 178],\n",
    "                'gender': ['女', '女', '男', '男', '男', '男']})\n",
    "person_info"
   ]
  },
  {
   "cell_type": "code",
   "execution_count": 10,
   "id": "2cd3449b",
   "metadata": {},
   "outputs": [
    {
     "data": {
      "text/plain": [
       "0    False\n",
       "1    False\n",
       "2    False\n",
       "3    False\n",
       "4     True\n",
       "5    False\n",
       "dtype: bool"
      ]
     },
     "execution_count": 10,
     "metadata": {},
     "output_type": "execute_result"
    }
   ],
   "source": [
    "# 检测person_info对象中的重复值\n",
    "person_info.duplicated()  "
   ]
  },
  {
   "cell_type": "code",
   "execution_count": 11,
   "id": "b5ce5f08",
   "metadata": {},
   "outputs": [
    {
     "data": {
      "text/html": [
       "<div>\n",
       "<style scoped>\n",
       "    .dataframe tbody tr th:only-of-type {\n",
       "        vertical-align: middle;\n",
       "    }\n",
       "\n",
       "    .dataframe tbody tr th {\n",
       "        vertical-align: top;\n",
       "    }\n",
       "\n",
       "    .dataframe thead th {\n",
       "        text-align: right;\n",
       "    }\n",
       "</style>\n",
       "<table border=\"1\" class=\"dataframe\">\n",
       "  <thead>\n",
       "    <tr style=\"text-align: right;\">\n",
       "      <th></th>\n",
       "      <th>name</th>\n",
       "      <th>age</th>\n",
       "      <th>height</th>\n",
       "      <th>gender</th>\n",
       "    </tr>\n",
       "  </thead>\n",
       "  <tbody>\n",
       "    <tr>\n",
       "      <th>0</th>\n",
       "      <td>刘婷婷</td>\n",
       "      <td>24</td>\n",
       "      <td>162</td>\n",
       "      <td>女</td>\n",
       "    </tr>\n",
       "    <tr>\n",
       "      <th>1</th>\n",
       "      <td>王淼</td>\n",
       "      <td>23</td>\n",
       "      <td>165</td>\n",
       "      <td>女</td>\n",
       "    </tr>\n",
       "    <tr>\n",
       "      <th>2</th>\n",
       "      <td>彭岩</td>\n",
       "      <td>29</td>\n",
       "      <td>175</td>\n",
       "      <td>男</td>\n",
       "    </tr>\n",
       "    <tr>\n",
       "      <th>3</th>\n",
       "      <td>刘华</td>\n",
       "      <td>22</td>\n",
       "      <td>175</td>\n",
       "      <td>男</td>\n",
       "    </tr>\n",
       "    <tr>\n",
       "      <th>5</th>\n",
       "      <td>周华</td>\n",
       "      <td>27</td>\n",
       "      <td>178</td>\n",
       "      <td>男</td>\n",
       "    </tr>\n",
       "  </tbody>\n",
       "</table>\n",
       "</div>"
      ],
      "text/plain": [
       "  name  age  height gender\n",
       "0  刘婷婷   24     162      女\n",
       "1   王淼   23     165      女\n",
       "2   彭岩   29     175      男\n",
       "3   刘华   22     175      男\n",
       "5   周华   27     178      男"
      ]
     },
     "execution_count": 11,
     "metadata": {},
     "output_type": "execute_result"
    }
   ],
   "source": [
    "# 删除person_info对象中的重复值\n",
    "person_info.drop_duplicates()"
   ]
  },
  {
   "cell_type": "code",
   "execution_count": 14,
   "id": "2a9afb56",
   "metadata": {},
   "outputs": [
    {
     "data": {
      "text/plain": [
       "121    13.2\n",
       "710    13.1\n",
       "Name: value, dtype: float64"
      ]
     },
     "execution_count": 14,
     "metadata": {},
     "output_type": "execute_result"
    }
   ],
   "source": [
    "import numpy as np\n",
    "import pandas as pd\n",
    "def three_sigma(ser):\n",
    "    \"\"\"\n",
    "    :param ser: 被检测的数据，接收DataFrame的一列数据\n",
    "    :return: 异常值及其对应的行索引\n",
    "    \"\"\"\n",
    "    # 计算平均值\n",
    "    mean_data = ser.mean()\n",
    "    # 计算标准差\n",
    "    std_data = ser.std()\n",
    "    #小于μ-3σ或大于μ+3σ的数值均为异常值\n",
    "    rule = (mean_data-3*std_data>ser) | (mean_data+3*std_data<ser)\n",
    "    # 返回异常值的行索引\n",
    "    index = np.arange(ser.shape[0])[rule]\n",
    "    # 获取异常值\n",
    "    outliers = ser.iloc[index]\n",
    "    return outliers\n",
    "# 读取data.xlsx文件\n",
    "excel_data  = pd.read_excel(\"C:\\\\Users\\ROG\\Desktop\\jupter\\data.xlsx\")\n",
    "# 对value列进行异常值检测\n",
    "three_sigma(excel_data['value'])"
   ]
  },
  {
   "cell_type": "code",
   "execution_count": 15,
   "id": "381d00bb",
   "metadata": {},
   "outputs": [
    {
     "data": {
      "text/plain": [
       "<Axes: >"
      ]
     },
     "execution_count": 15,
     "metadata": {},
     "output_type": "execute_result"
    },
    {
     "data": {
      "image/png": "[encoded data removed]",
      "text/plain": [
       "<Figure size 640x480 with 1 Axes>"
      ]
     },
     "metadata": {},
     "output_type": "display_data"
    }
   ],
   "source": [
    "import pandas as pd\n",
    "excel_data  = pd.read_excel(\"C:\\\\Users\\ROG\\Desktop\\jupter\\data.xlsx\")\n",
    "excel_data.boxplot(column='value')"
   ]
  },
  {
   "cell_type": "code",
   "execution_count": 16,
   "id": "682cf698",
   "metadata": {},
   "outputs": [
    {
     "data": {
      "text/plain": [
       "0      12.7\n",
       "121    13.2\n",
       "255    12.7\n",
       "353    13.0\n",
       "694    12.8\n",
       "710    13.1\n",
       "724    12.9\n",
       "Name: value, dtype: float64"
      ]
     },
     "execution_count": 16,
     "metadata": {},
     "output_type": "execute_result"
    }
   ],
   "source": [
    "import pandas as pd\n",
    "import numpy as np\n",
    "def box_outliers(ser):\n",
    "    # 对待检测的数据集进行排序\n",
    "    new_ser = ser.sort_values()\n",
    "    # 判断数据的总数量是奇数还是偶数\n",
    "    if new_ser.count() % 2 == 0:\n",
    "        # 计算Q3、Q1、IQR\n",
    "        Q3 = new_ser[int(len(new_ser) / 2):].median()\n",
    "        Q1 = new_ser[:int(len(new_ser) / 2)].median()\n",
    "    elif new_ser.count() % 2 != 0:\n",
    "        Q3 = new_ser[int((len(new_ser)-1) / 2):].median()\n",
    "        Q1 = new_ser[:int((len(new_ser)-1) / 2)].median()\n",
    "    IQR = round(Q3 - Q1, 1)\n",
    "    rule = (round(Q3+1.5*IQR, 1) < ser)|(round(Q1-1.5*IQR, 1) > ser)\n",
    "    index = np.arange(ser.shape[0])[rule]\n",
    "    # 获取异常值及其索引\n",
    "    outliers = ser.iloc[index]\n",
    "    return outliers\n",
    "excel_data = pd.read_excel('data.xlsx')\n",
    "box_outliers(excel_data['value'])"
   ]
  },
  {
   "cell_type": "code",
   "execution_count": 17,
   "id": "ca10729a",
   "metadata": {},
   "outputs": [
    {
     "data": {
      "text/plain": [
       "KstestResult(statistic=0.02687507149308127, pvalue=0.45762860388602944, statistic_location=10.0, statistic_sign=1)"
      ]
     },
     "execution_count": 17,
     "metadata": {},
     "output_type": "execute_result"
    }
   ],
   "source": [
    "import scipy.stats as stats\n",
    "data  = pd.read_excel('data.xlsx')                  \n",
    "u = data['value'].mean()                              # 计算均值\n",
    "std = data['value'].std()                             # 计算标准差\n",
    "stats.kstest(data['value'], 'norm', (u, std))     # 检测是否符合正态分"
   ]
  },
  {
   "cell_type": "code",
   "execution_count": 2,
   "id": "4da4597b",
   "metadata": {},
   "outputs": [
    {
     "ename": "FileNotFoundError",
     "evalue": "[Errno 2] No such file or directory: 'C:\\\\Users\\\\ROG\\\\Desktop\\\\jupter\\\\data.xlsx'",
     "output_type": "error",
     "traceback": [
      "\u001b[1;31m---------------------------------------------------------------------------\u001b[0m",
      "\u001b[1;31mFileNotFoundError\u001b[0m                         Traceback (most recent call last)",
      "Cell \u001b[1;32mIn[2], line 2\u001b[0m\n\u001b[0;32m      1\u001b[0m \u001b[38;5;28;01mimport\u001b[39;00m \u001b[38;5;21;01mpandas\u001b[39;00m \u001b[38;5;28;01mas\u001b[39;00m \u001b[38;5;21;01mpd\u001b[39;00m\n\u001b[1;32m----> 2\u001b[0m excel_data  \u001b[38;5;241m=\u001b[39m \u001b[43mpd\u001b[49m\u001b[38;5;241;43m.\u001b[39;49m\u001b[43mread_excel\u001b[49m\u001b[43m(\u001b[49m\u001b[38;5;124;43m\"\u001b[39;49m\u001b[38;5;124;43mC:\u001b[39;49m\u001b[38;5;130;43;01m\\\\\u001b[39;49;00m\u001b[38;5;124;43mUsers\u001b[39;49m\u001b[38;5;124;43m\\\u001b[39;49m\u001b[38;5;124;43mROG\u001b[39;49m\u001b[38;5;124;43m\\\u001b[39;49m\u001b[38;5;124;43mDesktop\u001b[39;49m\u001b[38;5;124;43m\\\u001b[39;49m\u001b[38;5;124;43mjupter\u001b[39;49m\u001b[38;5;124;43m\\\u001b[39;49m\u001b[38;5;124;43mdata.xlsx\u001b[39;49m\u001b[38;5;124;43m\"\u001b[39;49m\u001b[43m)\u001b[49m\n\u001b[0;32m      3\u001b[0m \u001b[38;5;28mprint\u001b[39m(excel_data)\n",
      "File \u001b[1;32mE:\\ANACONDA\\lib\\site-packages\\pandas\\util\\_decorators.py:211\u001b[0m, in \u001b[0;36mdeprecate_kwarg.<locals>._deprecate_kwarg.<locals>.wrapper\u001b[1;34m(*args, **kwargs)\u001b[0m\n\u001b[0;32m    209\u001b[0m     \u001b[38;5;28;01melse\u001b[39;00m:\n\u001b[0;32m    210\u001b[0m         kwargs[new_arg_name] \u001b[38;5;241m=\u001b[39m new_arg_value\n\u001b[1;32m--> 211\u001b[0m \u001b[38;5;28;01mreturn\u001b[39;00m func(\u001b[38;5;241m*\u001b[39margs, \u001b[38;5;241m*\u001b[39m\u001b[38;5;241m*\u001b[39mkwargs)\n",
      "File \u001b[1;32mE:\\ANACONDA\\lib\\site-packages\\pandas\\util\\_decorators.py:331\u001b[0m, in \u001b[0;36mdeprecate_nonkeyword_arguments.<locals>.decorate.<locals>.wrapper\u001b[1;34m(*args, **kwargs)\u001b[0m\n\u001b[0;32m    325\u001b[0m \u001b[38;5;28;01mif\u001b[39;00m \u001b[38;5;28mlen\u001b[39m(args) \u001b[38;5;241m>\u001b[39m num_allow_args:\n\u001b[0;32m    326\u001b[0m     warnings\u001b[38;5;241m.\u001b[39mwarn(\n\u001b[0;32m    327\u001b[0m         msg\u001b[38;5;241m.\u001b[39mformat(arguments\u001b[38;5;241m=\u001b[39m_format_argument_list(allow_args)),\n\u001b[0;32m    328\u001b[0m         \u001b[38;5;167;01mFutureWarning\u001b[39;00m,\n\u001b[0;32m    329\u001b[0m         stacklevel\u001b[38;5;241m=\u001b[39mfind_stack_level(),\n\u001b[0;32m    330\u001b[0m     )\n\u001b[1;32m--> 331\u001b[0m \u001b[38;5;28;01mreturn\u001b[39;00m func(\u001b[38;5;241m*\u001b[39margs, \u001b[38;5;241m*\u001b[39m\u001b[38;5;241m*\u001b[39mkwargs)\n",
      "File \u001b[1;32mE:\\ANACONDA\\lib\\site-packages\\pandas\\io\\excel\\_base.py:482\u001b[0m, in \u001b[0;36mread_excel\u001b[1;34m(io, sheet_name, header, names, index_col, usecols, squeeze, dtype, engine, converters, true_values, false_values, skiprows, nrows, na_values, keep_default_na, na_filter, verbose, parse_dates, date_parser, thousands, decimal, comment, skipfooter, convert_float, mangle_dupe_cols, storage_options)\u001b[0m\n\u001b[0;32m    480\u001b[0m \u001b[38;5;28;01mif\u001b[39;00m \u001b[38;5;129;01mnot\u001b[39;00m \u001b[38;5;28misinstance\u001b[39m(io, ExcelFile):\n\u001b[0;32m    481\u001b[0m     should_close \u001b[38;5;241m=\u001b[39m \u001b[38;5;28;01mTrue\u001b[39;00m\n\u001b[1;32m--> 482\u001b[0m     io \u001b[38;5;241m=\u001b[39m \u001b[43mExcelFile\u001b[49m\u001b[43m(\u001b[49m\u001b[43mio\u001b[49m\u001b[43m,\u001b[49m\u001b[43m \u001b[49m\u001b[43mstorage_options\u001b[49m\u001b[38;5;241;43m=\u001b[39;49m\u001b[43mstorage_options\u001b[49m\u001b[43m,\u001b[49m\u001b[43m \u001b[49m\u001b[43mengine\u001b[49m\u001b[38;5;241;43m=\u001b[39;49m\u001b[43mengine\u001b[49m\u001b[43m)\u001b[49m\n\u001b[0;32m    483\u001b[0m \u001b[38;5;28;01melif\u001b[39;00m engine \u001b[38;5;129;01mand\u001b[39;00m engine \u001b[38;5;241m!=\u001b[39m io\u001b[38;5;241m.\u001b[39mengine:\n\u001b[0;32m    484\u001b[0m     \u001b[38;5;28;01mraise\u001b[39;00m \u001b[38;5;167;01mValueError\u001b[39;00m(\n\u001b[0;32m    485\u001b[0m         \u001b[38;5;124m\"\u001b[39m\u001b[38;5;124mEngine should not be specified when passing \u001b[39m\u001b[38;5;124m\"\u001b[39m\n\u001b[0;32m    486\u001b[0m         \u001b[38;5;124m\"\u001b[39m\u001b[38;5;124man ExcelFile - ExcelFile already has the engine set\u001b[39m\u001b[38;5;124m\"\u001b[39m\n\u001b[0;32m    487\u001b[0m     )\n",
      "File \u001b[1;32mE:\\ANACONDA\\lib\\site-packages\\pandas\\io\\excel\\_base.py:1652\u001b[0m, in \u001b[0;36mExcelFile.__init__\u001b[1;34m(self, path_or_buffer, engine, storage_options)\u001b[0m\n\u001b[0;32m   1650\u001b[0m     ext \u001b[38;5;241m=\u001b[39m \u001b[38;5;124m\"\u001b[39m\u001b[38;5;124mxls\u001b[39m\u001b[38;5;124m\"\u001b[39m\n\u001b[0;32m   1651\u001b[0m \u001b[38;5;28;01melse\u001b[39;00m:\n\u001b[1;32m-> 1652\u001b[0m     ext \u001b[38;5;241m=\u001b[39m \u001b[43minspect_excel_format\u001b[49m\u001b[43m(\u001b[49m\n\u001b[0;32m   1653\u001b[0m \u001b[43m        \u001b[49m\u001b[43mcontent_or_path\u001b[49m\u001b[38;5;241;43m=\u001b[39;49m\u001b[43mpath_or_buffer\u001b[49m\u001b[43m,\u001b[49m\u001b[43m \u001b[49m\u001b[43mstorage_options\u001b[49m\u001b[38;5;241;43m=\u001b[39;49m\u001b[43mstorage_options\u001b[49m\n\u001b[0;32m   1654\u001b[0m \u001b[43m    \u001b[49m\u001b[43m)\u001b[49m\n\u001b[0;32m   1655\u001b[0m     \u001b[38;5;28;01mif\u001b[39;00m ext \u001b[38;5;129;01mis\u001b[39;00m \u001b[38;5;28;01mNone\u001b[39;00m:\n\u001b[0;32m   1656\u001b[0m         \u001b[38;5;28;01mraise\u001b[39;00m \u001b[38;5;167;01mValueError\u001b[39;00m(\n\u001b[0;32m   1657\u001b[0m             \u001b[38;5;124m\"\u001b[39m\u001b[38;5;124mExcel file format cannot be determined, you must specify \u001b[39m\u001b[38;5;124m\"\u001b[39m\n\u001b[0;32m   1658\u001b[0m             \u001b[38;5;124m\"\u001b[39m\u001b[38;5;124man engine manually.\u001b[39m\u001b[38;5;124m\"\u001b[39m\n\u001b[0;32m   1659\u001b[0m         )\n",
      "File \u001b[1;32mE:\\ANACONDA\\lib\\site-packages\\pandas\\io\\excel\\_base.py:1525\u001b[0m, in \u001b[0;36minspect_excel_format\u001b[1;34m(content_or_path, storage_options)\u001b[0m\n\u001b[0;32m   1522\u001b[0m \u001b[38;5;28;01mif\u001b[39;00m \u001b[38;5;28misinstance\u001b[39m(content_or_path, \u001b[38;5;28mbytes\u001b[39m):\n\u001b[0;32m   1523\u001b[0m     content_or_path \u001b[38;5;241m=\u001b[39m BytesIO(content_or_path)\n\u001b[1;32m-> 1525\u001b[0m \u001b[38;5;28;01mwith\u001b[39;00m \u001b[43mget_handle\u001b[49m\u001b[43m(\u001b[49m\n\u001b[0;32m   1526\u001b[0m \u001b[43m    \u001b[49m\u001b[43mcontent_or_path\u001b[49m\u001b[43m,\u001b[49m\u001b[43m \u001b[49m\u001b[38;5;124;43m\"\u001b[39;49m\u001b[38;5;124;43mrb\u001b[39;49m\u001b[38;5;124;43m\"\u001b[39;49m\u001b[43m,\u001b[49m\u001b[43m \u001b[49m\u001b[43mstorage_options\u001b[49m\u001b[38;5;241;43m=\u001b[39;49m\u001b[43mstorage_options\u001b[49m\u001b[43m,\u001b[49m\u001b[43m \u001b[49m\u001b[43mis_text\u001b[49m\u001b[38;5;241;43m=\u001b[39;49m\u001b[38;5;28;43;01mFalse\u001b[39;49;00m\n\u001b[0;32m   1527\u001b[0m \u001b[43m\u001b[49m\u001b[43m)\u001b[49m \u001b[38;5;28;01mas\u001b[39;00m handle:\n\u001b[0;32m   1528\u001b[0m     stream \u001b[38;5;241m=\u001b[39m handle\u001b[38;5;241m.\u001b[39mhandle\n\u001b[0;32m   1529\u001b[0m     stream\u001b[38;5;241m.\u001b[39mseek(\u001b[38;5;241m0\u001b[39m)\n",
      "File \u001b[1;32mE:\\ANACONDA\\lib\\site-packages\\pandas\\io\\common.py:865\u001b[0m, in \u001b[0;36mget_handle\u001b[1;34m(path_or_buf, mode, encoding, compression, memory_map, is_text, errors, storage_options)\u001b[0m\n\u001b[0;32m    856\u001b[0m         handle \u001b[38;5;241m=\u001b[39m \u001b[38;5;28mopen\u001b[39m(\n\u001b[0;32m    857\u001b[0m             handle,\n\u001b[0;32m    858\u001b[0m             ioargs\u001b[38;5;241m.\u001b[39mmode,\n\u001b[1;32m   (...)\u001b[0m\n\u001b[0;32m    861\u001b[0m             newline\u001b[38;5;241m=\u001b[39m\u001b[38;5;124m\"\u001b[39m\u001b[38;5;124m\"\u001b[39m,\n\u001b[0;32m    862\u001b[0m         )\n\u001b[0;32m    863\u001b[0m     \u001b[38;5;28;01melse\u001b[39;00m:\n\u001b[0;32m    864\u001b[0m         \u001b[38;5;66;03m# Binary mode\u001b[39;00m\n\u001b[1;32m--> 865\u001b[0m         handle \u001b[38;5;241m=\u001b[39m \u001b[38;5;28;43mopen\u001b[39;49m\u001b[43m(\u001b[49m\u001b[43mhandle\u001b[49m\u001b[43m,\u001b[49m\u001b[43m \u001b[49m\u001b[43mioargs\u001b[49m\u001b[38;5;241;43m.\u001b[39;49m\u001b[43mmode\u001b[49m\u001b[43m)\u001b[49m\n\u001b[0;32m    866\u001b[0m     handles\u001b[38;5;241m.\u001b[39mappend(handle)\n\u001b[0;32m    868\u001b[0m \u001b[38;5;66;03m# Convert BytesIO or file objects passed with an encoding\u001b[39;00m\n",
      "\u001b[1;31mFileNotFoundError\u001b[0m: [Errno 2] No such file or directory: 'C:\\\\Users\\\\ROG\\\\Desktop\\\\jupter\\\\data.xlsx'"
     ]
    }
   ],
   "source": []
  },
  {
   "cell_type": "code",
   "execution_count": null,
   "id": "778f9435",
   "metadata": {},
   "outputs": [],
   "source": []
  }
 ],
 "metadata": {
  "kernelspec": {
   "display_name": "Python 3 (ipykernel)",
   "language": "python",
   "name": "python3"
  },
  "language_info": {
   "codemirror_mode": {
    "name": "ipython",
    "version": 3
   },
   "file_extension": ".py",
   "mimetype": "text/x-python",
   "name": "python",
   "nbconvert_exporter": "python",
   "pygments_lexer": "ipython3",
   "version": "3.10.9"
  }
 },
 "nbformat": 4,
 "nbformat_minor": 5
}
